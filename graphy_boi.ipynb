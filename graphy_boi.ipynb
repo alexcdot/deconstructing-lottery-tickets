{
 "metadata": {
  "language_info": {
   "codemirror_mode": {
    "name": "ipython",
    "version": 3
   },
   "file_extension": ".py",
   "mimetype": "text/x-python",
   "name": "python",
   "nbconvert_exporter": "python",
   "pygments_lexer": "ipython3",
   "version": "3.6.13"
  },
  "orig_nbformat": 2,
  "kernelspec": {
   "name": "python3613jvsc74a57bd01f53d7bc83866bc7f210bdc9b8f4825e26139477b53dcea2eb67bcc3df72880f",
   "display_name": "Python 3.6.13 64-bit ('cs159': conda)"
  },
  "metadata": {
   "interpreter": {
    "hash": "1f53d7bc83866bc7f210bdc9b8f4825e26139477b53dcea2eb67bcc3df72880f"
   }
  }
 },
 "nbformat": 4,
 "nbformat_minor": 2,
 "cells": [
  {
   "cell_type": "code",
   "execution_count": 1,
   "metadata": {},
   "outputs": [
    {
     "output_type": "stream",
     "name": "stdout",
     "text": [
      "WARNING:tensorflow:From /home/fucko/anaconda3/envs/cs159/lib/python3.6/site-packages/tensorflow/python/compat/v2_compat.py:96: disable_resource_variables (from tensorflow.python.ops.variable_scope) is deprecated and will be removed in a future version.\nInstructions for updating:\nnon-resource variables are not supported in the long term\n"
     ]
    }
   ],
   "source": [
    "from __future__ import print_function\n",
    "from __future__ import division\n",
    "\n",
    "from ast import literal_eval\n",
    "\n",
    "import tensorflow as tf\n",
    "tf.compat.v1.disable_eager_execution()\n",
    "\n",
    "import numpy as np\n",
    "import time\n",
    "import h5py\n",
    "import argparse\n",
    "import os\n",
    "import sys\n",
    "import matplotlib.pyplot as plt\n",
    "import pandas as pd\n",
    "import networkx as nx\n",
    "\n",
    "import masked_networks\n",
    "from tf_plus import learning_phase, batchnorm_learning_phase\n",
    "from tf_plus import sess_run_dict, add_classification_losses\n",
    "from tf_plus import summarize_weights\n",
    "from train_supermask import make_parser, read_input_data,     init_model, load_initial_weights, split_and_shape"
   ]
  },
  {
   "cell_type": "code",
   "execution_count": 7,
   "metadata": {},
   "outputs": [],
   "source": [
    "files = os.listdir('./csvs')\n",
    "df = pd.read_csv(os.path.join('./csvs', files[-1]))\n",
    "for f in range(len(files)-1):\n",
    "    df = df.append(pd.read_csv(os.path.join('./csvs', files[f])))\n"
   ]
  },
  {
   "cell_type": "code",
   "execution_count": 10,
   "metadata": {},
   "outputs": [
    {
     "output_type": "execute_result",
     "data": {
      "text/plain": [
       "         experiment_name  regular_epochs      mean   median           var\n",
       "0              Control 1              11  0.981950  0.98200  4.250106e-07\n",
       "1              Control 1              22  0.983370  0.98320  2.801103e-07\n",
       "2              Control 1              33  0.983790  0.98380  2.076604e-07\n",
       "3              Control 1              44  0.984220  0.98425  4.151127e-07\n",
       "4              Control 1              55  0.984170  0.98420  3.601162e-07\n",
       "5              Control 2              55  0.984966  0.98490  7.031632e-07\n",
       "6              control_3               0  0.948990  0.94950  1.634318e-06\n",
       "7   pretrained_supermask              11  0.949040  0.94900  1.620446e-06\n",
       "8   pretrained_supermask              22  0.949230  0.94895  2.440094e-06\n",
       "9   pretrained_supermask              33  0.949300  0.94900  2.044455e-06\n",
       "10  pretrained_supermask              44  0.948880  0.94890  2.379537e-06\n",
       "11  pretrained_supermask              55  0.949090  0.94945  1.718760e-06"
      ],
      "text/html": "<div>\n<style scoped>\n    .dataframe tbody tr th:only-of-type {\n        vertical-align: middle;\n    }\n\n    .dataframe tbody tr th {\n        vertical-align: top;\n    }\n\n    .dataframe thead th {\n        text-align: right;\n    }\n</style>\n<table border=\"1\" class=\"dataframe\">\n  <thead>\n    <tr style=\"text-align: right;\">\n      <th></th>\n      <th>experiment_name</th>\n      <th>regular_epochs</th>\n      <th>mean</th>\n      <th>median</th>\n      <th>var</th>\n    </tr>\n  </thead>\n  <tbody>\n    <tr>\n      <th>0</th>\n      <td>Control 1</td>\n      <td>11</td>\n      <td>0.981950</td>\n      <td>0.98200</td>\n      <td>4.250106e-07</td>\n    </tr>\n    <tr>\n      <th>1</th>\n      <td>Control 1</td>\n      <td>22</td>\n      <td>0.983370</td>\n      <td>0.98320</td>\n      <td>2.801103e-07</td>\n    </tr>\n    <tr>\n      <th>2</th>\n      <td>Control 1</td>\n      <td>33</td>\n      <td>0.983790</td>\n      <td>0.98380</td>\n      <td>2.076604e-07</td>\n    </tr>\n    <tr>\n      <th>3</th>\n      <td>Control 1</td>\n      <td>44</td>\n      <td>0.984220</td>\n      <td>0.98425</td>\n      <td>4.151127e-07</td>\n    </tr>\n    <tr>\n      <th>4</th>\n      <td>Control 1</td>\n      <td>55</td>\n      <td>0.984170</td>\n      <td>0.98420</td>\n      <td>3.601162e-07</td>\n    </tr>\n    <tr>\n      <th>5</th>\n      <td>Control 2</td>\n      <td>55</td>\n      <td>0.984966</td>\n      <td>0.98490</td>\n      <td>7.031632e-07</td>\n    </tr>\n    <tr>\n      <th>6</th>\n      <td>control_3</td>\n      <td>0</td>\n      <td>0.948990</td>\n      <td>0.94950</td>\n      <td>1.634318e-06</td>\n    </tr>\n    <tr>\n      <th>7</th>\n      <td>pretrained_supermask</td>\n      <td>11</td>\n      <td>0.949040</td>\n      <td>0.94900</td>\n      <td>1.620446e-06</td>\n    </tr>\n    <tr>\n      <th>8</th>\n      <td>pretrained_supermask</td>\n      <td>22</td>\n      <td>0.949230</td>\n      <td>0.94895</td>\n      <td>2.440094e-06</td>\n    </tr>\n    <tr>\n      <th>9</th>\n      <td>pretrained_supermask</td>\n      <td>33</td>\n      <td>0.949300</td>\n      <td>0.94900</td>\n      <td>2.044455e-06</td>\n    </tr>\n    <tr>\n      <th>10</th>\n      <td>pretrained_supermask</td>\n      <td>44</td>\n      <td>0.948880</td>\n      <td>0.94890</td>\n      <td>2.379537e-06</td>\n    </tr>\n    <tr>\n      <th>11</th>\n      <td>pretrained_supermask</td>\n      <td>55</td>\n      <td>0.949090</td>\n      <td>0.94945</td>\n      <td>1.718760e-06</td>\n    </tr>\n  </tbody>\n</table>\n</div>"
     },
     "metadata": {},
     "execution_count": 10
    }
   ],
   "source": [
    "df.groupby([\"experiment_name\", \"regular_epochs\",])[\"test_accuracy\"].agg([\"mean\", \"median\", \"var\"]).reset_index()"
   ]
  }
 ]
}