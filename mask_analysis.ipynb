{
 "cells": [
  {
   "cell_type": "code",
   "execution_count": 1,
   "id": "union-modification",
   "metadata": {},
   "outputs": [
    {
     "name": "stdout",
     "output_type": "stream",
     "text": [
      "WARNING:tensorflow:From /home/acui/torch_1.7.1_env/lib/python3.8/site-packages/tensorflow/python/compat/v2_compat.py:96: disable_resource_variables (from tensorflow.python.ops.variable_scope) is deprecated and will be removed in a future version.\n",
      "Instructions for updating:\n",
      "non-resource variables are not supported in the long term\n"
     ]
    }
   ],
   "source": [
    "from __future__ import print_function\n",
    "from __future__ import division\n",
    "\n",
    "from ast import literal_eval\n",
    "\n",
    "import tensorflow as tf\n",
    "tf.compat.v1.disable_eager_execution()\n",
    "\n",
    "import numpy as np\n",
    "import time\n",
    "import h5py\n",
    "import argparse\n",
    "import os\n",
    "import sys\n",
    "\n",
    "import masked_networks\n",
    "from tf_plus import learning_phase, batchnorm_learning_phase\n",
    "from tf_plus import sess_run_dict, add_classification_losses\n",
    "from tf_plus import summarize_weights\n",
    "from train_supermask import make_parser, read_input_data, \\\n",
    "    init_model, load_initial_weights, split_and_shape"
   ]
  },
  {
   "cell_type": "code",
   "execution_count": 2,
   "id": "private-barcelona",
   "metadata": {},
   "outputs": [],
   "source": [
    "parser = make_parser()\n",
    "seed = 1\n",
    "attempt_num = 0\n",
    "input_dir = \"./results/iter_lot_fc_orig/learned_supermasks_seed_{}_attempt_{}/run1\".format(\n",
    "    seed, attempt_num)\n",
    "args_str = \"\"\"--train_h5 ./data/mnist_train.h5 --test_h5 ./data/mnist_test.h5\n",
    "--arch fc_mask --opt sgd --lr 100 --num_epochs 500 --print_every 220\n",
    "--eval_every 220 --log_every 220 --save_weights --save_every 22000\n",
    "--tf_seed {}\n",
    "--init_weights_h5 {}\n",
    "\"\"\".format(seed, input_dir).split()\n",
    "args = parser.parse_args(args_str)"
   ]
  },
  {
   "cell_type": "code",
   "execution_count": 3,
   "id": "former-travel",
   "metadata": {},
   "outputs": [
    {
     "name": "stdout",
     "output_type": "stream",
     "text": [
      "Normalizing images by a factor of 255\n",
      "Data shapes: (55000, 28, 28, 1) (55000,) (10000, 28, 28, 1) (10000,)\n",
      "WARNING:tensorflow:From /home/acui/projects/deconstructing-lottery-tickets/masked_networks.py:183: Bernoulli.__init__ (from tensorflow.python.ops.distributions.bernoulli) is deprecated and will be removed after 2019-01-01.\n",
      "Instructions for updating:\n",
      "The TensorFlow Distributions library has moved to TensorFlow Probability (https://github.com/tensorflow/probability). You should update all references to use `tfp.distributions` instead of `tf.distributions`.\n",
      "WARNING:tensorflow:From /home/acui/torch_1.7.1_env/lib/python3.8/site-packages/tensorflow/python/ops/distributions/bernoulli.py:90: Distribution.__init__ (from tensorflow.python.ops.distributions.distribution) is deprecated and will be removed after 2019-01-01.\n",
      "Instructions for updating:\n",
      "The TensorFlow Distributions library has moved to TensorFlow Probability (https://github.com/tensorflow/probability). You should update all references to use `tfp.distributions` instead of `tf.distributions`.\n"
     ]
    }
   ],
   "source": [
    "train_x, train_y = read_input_data(args.train_h5)\n",
    "test_x, test_y = read_input_data(args.test_h5) # used as val for now\n",
    "images_scale = np.max(train_x)\n",
    "if images_scale > 1:\n",
    "    print('Normalizing images by a factor of {}'.format(images_scale))\n",
    "    train_x = train_x / images_scale\n",
    "    test_x = test_x / images_scale\n",
    "\n",
    "\n",
    "if args.test_batch_size == 0:\n",
    "    args.test_batch_size = test_y.shape[0]\n",
    "\n",
    "print('Data shapes:', train_x.shape, train_y.shape, test_x.shape, test_y.shape)\n",
    "if train_y.shape[0] % args.train_batch_size != 0:\n",
    "    print(\"WARNING batch size doesn't divide train set evenly\")\n",
    "if train_y.shape[0] % args.large_batch_size != 0:\n",
    "    print(\"WARNING large batch size doesn't divide train set evenly\")\n",
    "if test_y.shape[0] % args.test_batch_size != 0:\n",
    "    print(\"WARNING batch size doesn't divide test set evenly\")\n",
    "\n",
    "# build model, masked networks\n",
    "if args.arch == 'fc_mask':\n",
    "    model = masked_networks.build_fc_supermask(args)\n",
    "        \n",
    "init_model(model, args)\n",
    "# define_training(model, args)\n",
    "\n",
    "\n",
    "sess = tf.compat.v1.InteractiveSession()\n",
    "sess.run(tf.compat.v1.global_variables_initializer())"
   ]
  },
  {
   "cell_type": "code",
   "execution_count": 34,
   "id": "greatest-solomon",
   "metadata": {},
   "outputs": [
    {
     "name": "stdout",
     "output_type": "stream",
     "text": [
      "loading weights for layer 0: sequential_network/fc_1/kernel:0\n",
      "loading weights for layer 1: sequential_network/fc_1/bias:0\n",
      "loading weights for layer 2: sequential_network/fc_1/mask:0\n",
      "loading weights for layer 3: sequential_network/fc_2/kernel:0\n",
      "loading weights for layer 4: sequential_network/fc_2/bias:0\n",
      "loading weights for layer 5: sequential_network/fc_2/mask:0\n",
      "loading weights for layer 6: sequential_network/fc_3/kernel:0\n",
      "loading weights for layer 7: sequential_network/fc_3/bias:0\n",
      "loading weights for layer 8: sequential_network/fc_3/mask:0\n"
     ]
    }
   ],
   "source": [
    "if not args.init_weights_h5.endswith('/weights'):\n",
    "    h5file = os.path.join(args.init_weights_h5, 'weights')\n",
    "else:\n",
    "    h5file = args.init_weights_h5\n",
    "hf_weights = h5py.File(h5file, 'r')\n",
    "init_weights_flat = hf_weights.get('all_weights')[0]\n",
    "final_weights_flat = hf_weights.get('all_weights')[-1]\n",
    "current_mask = np.array(hf_weights.get('mask_values'))\n",
    "\n",
    "shapes = [literal_eval(s) for s in hf_weights.attrs['var_shapes'].decode('utf-8').split(';')]\n",
    "hf_weights.close()\n",
    "\n",
    "weight_values = split_and_shape(init_weights_flat, shapes)\n",
    "final_weight_values = split_and_shape(final_weights_flat, shapes)\n",
    "gk = tf.compat.v1.get_collection(tf.compat.v1.GraphKeys.TRAINABLE_VARIABLES)\n",
    "if len(gk) > 9:\n",
    "    print(\"You need to restart the kernel - graphkeys have been replicated\")\n",
    "\n",
    "for i, w in enumerate(gk):\n",
    "   #if 'mask' not in w.name: # HACK for biased masks\n",
    "    print('loading weights for layer {}: {}'.format(i, w.name))\n",
    "    w.load(weight_values[i], session=sess)"
   ]
  },
  {
   "cell_type": "code",
   "execution_count": 103,
   "id": "loose-smell",
   "metadata": {},
   "outputs": [
    {
     "name": "stdout",
     "output_type": "stream",
     "text": [
      "Basic info\n",
      "Shape: (784, 300)\n",
      "Fraction masked: 0.07955035490236648\n",
      "Shape: (300, 100)\n",
      "Fraction masked: 0.8608754016616333\n",
      "Shape: (100, 10)\n",
      "Fraction masked: 4.2978359382748605\n",
      "Total fraction masked: 0.18344981766025714\n"
     ]
    }
   ],
   "source": [
    "mask_layers = final_weight_values[2::3]\n",
    "print(\"Basic info\")\n",
    "all_mask_weights = []\n",
    "for mask_layer in mask_layers:\n",
    "    print(\"Shape:\", mask_layer.shape)\n",
    "    print(\"Fraction masked:\", mask_layer.mean())\n",
    "    all_mask_weights.append(mask_layer.flatten())\n",
    "all_mask_weights = np.concatenate(all_mask_weights)\n",
    "print(\"Total fraction masked:\", all_mask_weights.mean())"
   ]
  },
  {
   "cell_type": "code",
   "execution_count": 105,
   "id": "efficient-carter",
   "metadata": {},
   "outputs": [
    {
     "data": {
      "image/png": "[encoded data removed]",
      "text/plain": [
       "<Figure size 432x288 with 1 Axes>"
      ]
     },
     "metadata": {
      "needs_background": "light"
     },
     "output_type": "display_data"
    },
    {
     "data": {
      "image/png": "[encoded data removed]",
      "text/plain": [
       "<Figure size 432x288 with 1 Axes>"
      ]
     },
     "metadata": {
      "needs_background": "light"
     },
     "output_type": "display_data"
    },
    {
     "data": {
      "image/png": "[encoded data removed]",
      "text/plain": [
       "<Figure size 432x288 with 1 Axes>"
      ]
     },
     "metadata": {
      "needs_background": "light"
     },
     "output_type": "display_data"
    }
   ],
   "source": [
    "import matplotlib.pyplot as plt\n",
    "plt.hist(mask_layers[-3])\n",
    "plt.show()\n",
    "plt.hist(mask_layers[-2])\n",
    "plt.show()\n",
    "plt.hist(mask_layers[-1])\n",
    "plt.show()"
   ]
  },
  {
   "cell_type": "code",
   "execution_count": 40,
   "id": "graduate-disability",
   "metadata": {},
   "outputs": [],
   "source": [
    "args.method = 'large_final_same_sign'\n",
    "args.prev_weights = args.init_weights_h5\n",
    "args.output_dir = args.init_weights_h5\n",
    "assert('weights' not in args.output_dir)\n",
    "args.prune_base = \"0.8,0.9\"\n",
    "args.prune_power = 1\n",
    "args.layer_cutoff = \"4,6\"\n",
    "args.seed = args.tf_seed\n",
    "args.final_weight_interpolation = 1\n",
    "args.final_weights_ind = -1"
   ]
  },
  {
   "cell_type": "code",
   "execution_count": 43,
   "id": "christian-nancy",
   "metadata": {},
   "outputs": [
    {
     "data": {
      "text/plain": [
       "'./results/iter_lot_fc_orig/learned_supermasks_seed_1_attempt_0/run1'"
      ]
     },
     "execution_count": 43,
     "metadata": {},
     "output_type": "execute_result"
    }
   ],
   "source": [
    "args.init_weights_h5"
   ]
  },
  {
   "cell_type": "code",
   "execution_count": 49,
   "id": "outside-salon",
   "metadata": {},
   "outputs": [],
   "source": [
    "preproc_cmd = (\n",
    "    'python get_weight_init.py --method ' + args.method +\n",
    "    ' --weights_h5 ' + args.prev_weights + '/weights' +\n",
    "    ' --output_h5 ' + args.output_dir + '/init_weights' +\n",
    "    ' --prune_base ' + args.prune_base +\n",
    "    ' --prune_power ' + str(args.prune_power) +\n",
    "    ' --layer_cutoff ' + args.layer_cutoff + \n",
    "    ' --seed ' + str(args.seed) +\n",
    "    ' --final_weight_interpolation ' + str(args.final_weight_interpolation) +\n",
    "    ' --final_weights_ind ' + str(args.final_weights_ind))\n",
    "# os.system(preproc_cmd)"
   ]
  },
  {
   "cell_type": "code",
   "execution_count": 50,
   "id": "welcome-relative",
   "metadata": {},
   "outputs": [
    {
     "data": {
      "text/plain": [
       "CompletedProcess(args=['python', 'get_weight_init.py', '--method', 'large_final_same_sign', '--weights_h5', './results/iter_lot_fc_orig/learned_supermasks_seed_1_attempt_0/run1/weights', '--output_h5', './results/iter_lot_fc_orig/learned_supermasks_seed_1_attempt_0/run1/init_weights', '--prune_base', '0.8,0.9', '--prune_power', '1', '--layer_cutoff', '4,6', '--seed', '1', '--final_weight_interpolation', '1', '--final_weights_ind', '-1'], returncode=0, stdout=b'==prune percentiles are: \\n[19.999999999999996, 0, 19.999999999999996, 0, 9.999999999999998, 0]\\n==no mask exists - generating first mask\\n', stderr=b'2021-05-30 04:11:57.928472: I tensorflow/stream_executor/platform/default/dso_loader.cc:49] Successfully opened dynamic library libcudart.so.11.0\\nget_weight_init.py:47: DeprecationWarning: `np.int` is a deprecated alias for the builtin `int`. To silence this warning, use `int` by itself. Doing this will not modify any behavior and is safe. When replacing `np.int`, you may wish to use e.g. `np.int64` or `np.int32` to specify the precision. If you wish to review your current use, check the release note link for additional information.\\nDeprecated in NumPy 1.20; for more details and guidance: https://numpy.org/devdocs/release/1.20.0-notes.html#deprecations\\n  prune_num = np.int(np.sum(cur_mask) * percentile / 100)\\n')"
      ]
     },
     "execution_count": 50,
     "metadata": {},
     "output_type": "execute_result"
    }
   ],
   "source": [
    "import subprocess\n",
    "subprocess.run(preproc_cmd.split(), capture_output=True)"
   ]
  },
  {
   "cell_type": "code",
   "execution_count": 51,
   "id": "later-equipment",
   "metadata": {},
   "outputs": [],
   "source": [
    "if not args.init_weights_h5.endswith('/init_weights'):\n",
    "    preproc_h5file = os.path.join(args.init_weights_h5, 'init_weights')\n",
    "else:\n",
    "    preproc_h5file = args.init_weights_h5\n",
    "preproc_hf_weights = h5py.File(preproc_h5file, 'r')"
   ]
  },
  {
   "cell_type": "code",
   "execution_count": 72,
   "id": "mechanical-handling",
   "metadata": {},
   "outputs": [
    {
     "name": "stdout",
     "output_type": "stream",
     "text": [
      "(532810,)\n",
      "(532810,)\n"
     ]
    }
   ],
   "source": [
    "mask_flat = np.array(preproc_hf_weights.get('mask_values'))\n",
    "print(mask_flat.shape)\n",
    "print(init_weights_flat.shape)"
   ]
  },
  {
   "cell_type": "code",
   "execution_count": 73,
   "id": "dress-minimum",
   "metadata": {},
   "outputs": [],
   "source": [
    "mask_values = split_and_shape(mask_flat, shapes)"
   ]
  },
  {
   "cell_type": "code",
   "execution_count": 109,
   "id": "understanding-friend",
   "metadata": {},
   "outputs": [
    {
     "name": "stdout",
     "output_type": "stream",
     "text": [
      "Basic info\n",
      "Shape: (784, 300)\n",
      "Fraction masked: 0.8000042517006802\n",
      "Min: 0.0, Max: 1.0:\n",
      "\n",
      "Shape: (300,)\n",
      "Fraction masked: 1.0\n",
      "Min: 1.0, Max: 1.0:\n",
      "\n",
      "Shape: (784, 300)\n",
      "Fraction masked: 0.8000042517006802\n",
      "Min: 0.0, Max: 1.0:\n",
      "\n",
      "Shape: (300, 100)\n",
      "Fraction masked: 1.0\n",
      "Min: 1.0, Max: 1.0:\n",
      "\n",
      "Shape: (100,)\n",
      "Fraction masked: 0.91\n",
      "Min: 0.0, Max: 1.0:\n",
      "\n",
      "Shape: (300, 100)\n",
      "Fraction masked: 1.0\n",
      "Min: 1.0, Max: 1.0:\n",
      "\n",
      "Shape: (100, 10)\n",
      "Fraction masked: -0.002108986273902701\n",
      "Min: -0.3036646842956543, Max: 0.3021913468837738:\n",
      "\n",
      "Shape: (10,)\n",
      "Fraction masked: 0.0\n",
      "Min: 0.0, Max: 0.0:\n",
      "\n",
      "Shape: (100, 10)\n",
      "Fraction masked: 0.0\n",
      "Min: 0.0, Max: 0.0:\n",
      "\n",
      "Total fraction masked: 0.8196371896430737\n"
     ]
    }
   ],
   "source": [
    "mask_layers = mask_values\n",
    "print(\"Basic info\")\n",
    "all_mask_weights = []\n",
    "for mask_layer in mask_layers:\n",
    "    print(\"Shape:\", mask_layer.shape)\n",
    "    print(\"Fraction masked:\", mask_layer.mean())\n",
    "    print(\"Min: {}, Max: {}:\".format(mask_layer.min(), mask_layer.max()))\n",
    "    print()\n",
    "    all_mask_weights.append(mask_layer.flatten())\n",
    "all_mask_weights = np.concatenate(all_mask_weights)\n",
    "print(\"Total fraction masked:\", all_mask_weights.mean())"
   ]
  },
  {
   "cell_type": "code",
   "execution_count": 81,
   "id": "metropolitan-uniform",
   "metadata": {},
   "outputs": [
    {
     "data": {
      "text/plain": [
       "(array([[ 7.,  3.,  6., 20., 14., 14., 15.,  9.,  7.,  5.],\n",
       "        [ 4.,  5.,  9., 13., 15., 17., 17., 15.,  4.,  1.],\n",
       "        [ 4., 10.,  5., 14., 10., 15., 13., 10., 11.,  8.],\n",
       "        [ 8.,  7.,  9., 15., 16., 20., 12.,  4.,  6.,  3.],\n",
       "        [ 4.,  7.,  8., 12., 19., 19., 14., 10.,  6.,  1.],\n",
       "        [ 7.,  5., 13., 17., 16., 14., 12., 10.,  5.,  1.],\n",
       "        [ 1.,  8.,  8., 13., 19., 21., 13.,  6.,  7.,  4.],\n",
       "        [ 5.,  5., 16., 10., 19., 19., 12.,  9.,  4.,  1.],\n",
       "        [ 4.,  3.,  8.,  8., 16., 18., 17., 16.,  8.,  2.],\n",
       "        [ 6.,  4., 13., 15.,  9., 13., 16., 13.,  7.,  4.]]),\n",
       " array([-0.30366468, -0.24307908, -0.18249348, -0.12190787, -0.06132227,\n",
       "        -0.00073667,  0.05984893,  0.12043454,  0.18102014,  0.24160574,\n",
       "         0.30219135]),\n",
       " <a list of 10 BarContainer objects>)"
      ]
     },
     "execution_count": 81,
     "metadata": {},
     "output_type": "execute_result"
    },
    {
     "data": {
      "image/png": "[encoded data removed]",
      "text/plain": [
       "<Figure size 432x288 with 1 Axes>"
      ]
     },
     "metadata": {
      "needs_background": "light"
     },
     "output_type": "display_data"
    }
   ],
   "source": [
    "import matplotlib.pyplot as plt\n",
    "plt.hist(mask_layers[-3])"
   ]
  },
  {
   "cell_type": "code",
   "execution_count": 102,
   "id": "fiscal-lebanon",
   "metadata": {},
   "outputs": [],
   "source": [
    "def get_test_accs (run_dir):\n",
    "    test_accs = []\n",
    "    for filename in os.listdir(run_dir):\n",
    "        if 'tfevents' in filename:\n",
    "            for e in tf.compat.v1.train.summary_iterator(os.path.join(\n",
    "                run_dir, filename\n",
    "            )):\n",
    "                for v in e.summary.value:\n",
    "                    if v.tag == 'eval_test_acc':\n",
    "                        test_accs.append(v.simple_value)\n",
    "    return np.array(test_accs)"
   ]
  },
  {
   "cell_type": "code",
   "execution_count": 101,
   "id": "illegal-eligibility",
   "metadata": {},
   "outputs": [
    {
     "data": {
      "text/plain": [
       "array([0.0948    , 0.8775    , 0.8962    , 0.90759999, 0.90369999,\n",
       "       0.91659999, 0.91820002, 0.92189997, 0.92189997, 0.926     ,\n",
       "       0.92619997, 0.92629999, 0.9296    , 0.92830002, 0.93010002,\n",
       "       0.92979997, 0.92979997, 0.92879999, 0.92970002, 0.93330002,\n",
       "       0.93239999, 0.93110001, 0.93379998, 0.93440002, 0.93370003,\n",
       "       0.93550003, 0.93699998, 0.935     , 0.93269998, 0.935     ,\n",
       "       0.93540001, 0.93699998, 0.93529999, 0.93610001, 0.9357    ,\n",
       "       0.93489999, 0.93370003, 0.93669999, 0.93599999, 0.93650001,\n",
       "       0.93690002, 0.93830001, 0.93720001, 0.93839997, 0.93800002,\n",
       "       0.93889999, 0.9382    , 0.93739998, 0.93730003, 0.94029999,\n",
       "       0.93720001, 0.93660003, 0.93989998, 0.93919998, 0.93910003,\n",
       "       0.93879998, 0.94050002, 0.93779999, 0.94010001, 0.93900001,\n",
       "       0.93879998, 0.93970001, 0.93970001, 0.93809998, 0.93809998,\n",
       "       0.94050002, 0.9418    , 0.94099998, 0.94019997, 0.94050002,\n",
       "       0.9404    , 0.94090003, 0.94019997, 0.94120002, 0.94010001,\n",
       "       0.93889999, 0.93900001, 0.9418    , 0.94090003, 0.94150001,\n",
       "       0.9411    , 0.93980002, 0.9418    , 0.94230002, 0.94270003,\n",
       "       0.94160002, 0.9418    , 0.94239998, 0.94279999, 0.94279999,\n",
       "       0.94059998, 0.9418    , 0.94220001, 0.94099998, 0.94220001,\n",
       "       0.94230002, 0.94340003, 0.94239998, 0.9436    , 0.94260001,\n",
       "       0.94230002, 0.94209999, 0.94260001, 0.94279999, 0.94220001,\n",
       "       0.94370002, 0.9425    , 0.94260001, 0.94379997, 0.94260001,\n",
       "       0.94139999, 0.94120002, 0.94209999, 0.94260001, 0.94340003,\n",
       "       0.94309998, 0.94349998, 0.94270003, 0.94450003, 0.94400001,\n",
       "       0.94199997, 0.94300002, 0.94410002, 0.94400001, 0.94340003,\n",
       "       0.94319999, 0.94309998, 0.94300002, 0.94349998, 0.94160002,\n",
       "       0.94230002, 0.94489998, 0.94169998, 0.94400001, 0.94300002,\n",
       "       0.9447    , 0.94349998, 0.94400001, 0.94330001, 0.9443    ,\n",
       "       0.94239998, 0.94370002, 0.94330001, 0.94450003, 0.94349998,\n",
       "       0.94459999, 0.94349998, 0.94349998, 0.94440001, 0.9443    ,\n",
       "       0.94260001, 0.9443    , 0.94419998, 0.94379997, 0.94440001,\n",
       "       0.94440001, 0.94529998, 0.94379997, 0.94349998, 0.9436    ,\n",
       "       0.94480002, 0.94319999, 0.9443    , 0.9454    , 0.94370002,\n",
       "       0.9447    , 0.94440001, 0.94419998, 0.94300002, 0.94559997,\n",
       "       0.94379997, 0.94419998, 0.94349998, 0.94499999, 0.9443    ,\n",
       "       0.94309998, 0.94440001, 0.94419998, 0.9447    , 0.94410002,\n",
       "       0.94459999, 0.94459999, 0.9447    , 0.9443    , 0.94480002,\n",
       "       0.94300002, 0.94440001, 0.94459999, 0.9443    , 0.94459999,\n",
       "       0.94300002, 0.94620001, 0.94480002, 0.94459999, 0.94550002,\n",
       "       0.94450003, 0.94580001, 0.94520003, 0.94529998, 0.94520003,\n",
       "       0.9443    , 0.9447    , 0.9418    , 0.94639999, 0.94389999,\n",
       "       0.94489998, 0.94580001, 0.94440001, 0.94349998, 0.94440001,\n",
       "       0.94520003, 0.94489998, 0.94419998, 0.94529998, 0.94440001,\n",
       "       0.94580001, 0.94569999, 0.94529998, 0.94419998, 0.94489998,\n",
       "       0.94379997, 0.94419998, 0.94389999, 0.94450003, 0.94590002,\n",
       "       0.94559997, 0.94450003, 0.94510001, 0.94499999, 0.94550002,\n",
       "       0.9447    , 0.94410002, 0.94480002, 0.94559997, 0.94510001,\n",
       "       0.94580001, 0.94529998, 0.94419998, 0.94499999, 0.9454    ,\n",
       "       0.9461    , 0.94379997, 0.94499999, 0.94529998, 0.94340003,\n",
       "       0.94709998, 0.94489998, 0.94459999, 0.94419998, 0.94569999,\n",
       "       0.9465    , 0.94569999, 0.94550002, 0.94529998, 0.94580001,\n",
       "       0.9454    , 0.94529998, 0.94499999, 0.94529998, 0.94480002,\n",
       "       0.94499999, 0.94489998, 0.94550002, 0.94440001, 0.94550002,\n",
       "       0.94580001, 0.9461    , 0.94599998, 0.9454    , 0.9454    ,\n",
       "       0.94480002, 0.94489998, 0.94499999, 0.94499999, 0.94520003,\n",
       "       0.94520003, 0.94590002, 0.94580001, 0.94389999, 0.94559997,\n",
       "       0.9461    , 0.9436    , 0.94690001, 0.94459999, 0.94569999,\n",
       "       0.94480002, 0.94510001, 0.9465    , 0.94599998, 0.94489998,\n",
       "       0.94639999, 0.94559997, 0.9447    , 0.94520003, 0.94550002,\n",
       "       0.94489998, 0.94520003, 0.94590002, 0.94480002, 0.9461    ,\n",
       "       0.94559997, 0.94590002, 0.94599998, 0.94510001, 0.94510001,\n",
       "       0.9454    , 0.94550002, 0.94550002, 0.94559997, 0.94569999,\n",
       "       0.94550002, 0.94620001, 0.94550002, 0.94620001, 0.94580001,\n",
       "       0.94639999, 0.9465    , 0.94620001, 0.94499999, 0.9454    ,\n",
       "       0.9454    , 0.94529998, 0.94440001, 0.94669998, 0.94639999,\n",
       "       0.94550002, 0.94639999, 0.94590002, 0.94660002, 0.94669998,\n",
       "       0.94630003, 0.9461    , 0.94660002, 0.94700003, 0.94620001,\n",
       "       0.94660002, 0.94450003, 0.94620001, 0.94580001, 0.9465    ,\n",
       "       0.94590002, 0.94630003, 0.94529998, 0.94590002, 0.9461    ,\n",
       "       0.94580001, 0.9461    , 0.94559997, 0.9461    , 0.94639999,\n",
       "       0.94590002, 0.94559997, 0.94730002, 0.94669998, 0.94580001,\n",
       "       0.9461    , 0.94709998, 0.94630003, 0.94599998, 0.94529998,\n",
       "       0.94760001, 0.9465    , 0.94620001, 0.94669998, 0.94550002,\n",
       "       0.9472    , 0.94630003, 0.94709998, 0.9465    , 0.94700003,\n",
       "       0.94700003, 0.94669998, 0.94760001, 0.94620001, 0.94529998,\n",
       "       0.94690001, 0.94590002, 0.94590002, 0.94599998, 0.9461    ,\n",
       "       0.94669998, 0.94690001, 0.94639999, 0.94630003, 0.9454    ,\n",
       "       0.94660002, 0.9461    , 0.94749999, 0.94749999, 0.94749999,\n",
       "       0.94700003, 0.94730002, 0.9461    , 0.94599998, 0.94590002,\n",
       "       0.94620001, 0.94569999, 0.94690001, 0.94709998, 0.94679999,\n",
       "       0.94660002, 0.94559997, 0.94620001, 0.94730002, 0.94690001,\n",
       "       0.94679999, 0.9454    , 0.94510001, 0.94489998, 0.94690001,\n",
       "       0.9465    , 0.94620001, 0.94749999, 0.94599998, 0.94739997,\n",
       "       0.9465    , 0.94489998, 0.94550002, 0.94639999, 0.94590002,\n",
       "       0.94639999, 0.94700003, 0.94749999, 0.94690001, 0.94770002,\n",
       "       0.94529998, 0.94569999, 0.94709998, 0.94700003, 0.94520003,\n",
       "       0.94669998, 0.94660002, 0.94679999, 0.94639999, 0.94569999,\n",
       "       0.94480002, 0.94809997, 0.94669998, 0.94559997, 0.9454    ,\n",
       "       0.94520003, 0.9465    , 0.94580001, 0.94669998, 0.94669998,\n",
       "       0.94630003, 0.94749999, 0.94709998, 0.94749999, 0.94580001,\n",
       "       0.94599998, 0.9461    , 0.94760001, 0.9465    , 0.94730002,\n",
       "       0.94709998, 0.94760001, 0.94620001, 0.94749999, 0.94660002,\n",
       "       0.9479    , 0.9461    , 0.94639999, 0.94669998, 0.9472    ,\n",
       "       0.9472    , 0.94580001, 0.94760001, 0.94690001, 0.94620001,\n",
       "       0.94760001, 0.94529998, 0.94760001, 0.94739997, 0.94749999,\n",
       "       0.9443    , 0.94739997, 0.9472    , 0.94730002, 0.94620001,\n",
       "       0.94760001, 0.94660002, 0.9472    , 0.94709998, 0.94669998,\n",
       "       0.94779998, 0.94730002, 0.94639999, 0.94700003, 0.9465    ,\n",
       "       0.9483    , 0.9465    , 0.94779998, 0.94660002, 0.9465    ,\n",
       "       0.9483    , 0.9465    , 0.9472    , 0.94620001, 0.94739997,\n",
       "       0.94499999, 0.94800001, 0.94739997, 0.9465    , 0.9461    ,\n",
       "       0.94739997, 0.94620001, 0.9447    , 0.94760001, 0.94660002,\n",
       "       0.94669998])"
      ]
     },
     "execution_count": 101,
     "metadata": {},
     "output_type": "execute_result"
    }
   ],
   "source": [
    "get_test_accs(args.init_weights_h5)"
   ]
  },
  {
   "cell_type": "code",
   "execution_count": null,
   "id": "based-australian",
   "metadata": {},
   "outputs": [],
   "source": []
  }
 ],
 "metadata": {
  "kernelspec": {
   "display_name": "Python 3",
   "language": "python",
   "name": "python3"
  },
  "language_info": {
   "codemirror_mode": {
    "name": "ipython",
    "version": 3
   },
   "file_extension": ".py",
   "mimetype": "text/x-python",
   "name": "python",
   "nbconvert_exporter": "python",
   "pygments_lexer": "ipython3",
   "version": "3.8.5"
  }
 },
 "nbformat": 4,
 "nbformat_minor": 5
}
