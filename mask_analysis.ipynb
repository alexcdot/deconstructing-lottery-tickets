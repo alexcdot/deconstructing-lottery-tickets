{
 "cells": [
  {
   "cell_type": "code",
   "execution_count": 1,
   "id": "parallel-domestic",
   "metadata": {},
   "outputs": [
    {
     "name": "stdout",
     "output_type": "stream",
     "text": [
      "WARNING:tensorflow:From /home/acui/torch_1.7.1_env/lib/python3.8/site-packages/tensorflow/python/compat/v2_compat.py:96: disable_resource_variables (from tensorflow.python.ops.variable_scope) is deprecated and will be removed in a future version.\n",
      "Instructions for updating:\n",
      "non-resource variables are not supported in the long term\n"
     ]
    }
   ],
   "source": [
    "from __future__ import print_function\n",
    "from __future__ import division\n",
    "\n",
    "from ast import literal_eval\n",
    "\n",
    "import tensorflow as tf\n",
    "tf.compat.v1.disable_eager_execution()\n",
    "\n",
    "import numpy as np\n",
    "import time\n",
    "import h5py\n",
    "import argparse\n",
    "import os\n",
    "import sys\n",
    "\n",
    "import masked_networks\n",
    "from tf_plus import learning_phase, batchnorm_learning_phase\n",
    "from tf_plus import sess_run_dict, add_classification_losses\n",
    "from tf_plus import summarize_weights\n",
    "from train_supermask import make_parser, read_input_data, \\\n",
    "    init_model, load_initial_weights, split_and_shape"
   ]
  },
  {
   "cell_type": "code",
   "execution_count": 2,
   "id": "private-copyright",
   "metadata": {},
   "outputs": [],
   "source": [
    "parser = make_parser()\n",
    "seed = 1\n",
    "attempt_num = 0\n",
    "input_dir = \"./results/iter_lot_fc_orig/learned_supermasks_seed_{}_attempt_{}/run1\".format(\n",
    "    seed, attempt_num)\n",
    "args_str = \"\"\"--train_h5 ./data/mnist_train.h5 --test_h5 ./data/mnist_test.h5\n",
    "--arch fc_mask --opt sgd --lr 100 --num_epochs 500 --print_every 220\n",
    "--eval_every 220 --log_every 220 --save_weights --save_every 22000\n",
    "--tf_seed {}\n",
    "--init_weights_h5 {}\n",
    "\"\"\".format(seed, input_dir).split()\n",
    "args = parser.parse_args(args_str)"
   ]
  },
  {
   "cell_type": "code",
   "execution_count": 3,
   "id": "czech-pendant",
   "metadata": {},
   "outputs": [
    {
     "name": "stdout",
     "output_type": "stream",
     "text": [
      "Normalizing images by a factor of 255\n",
      "Data shapes: (55000, 28, 28, 1) (55000,) (10000, 28, 28, 1) (10000,)\n",
      "WARNING:tensorflow:From /home/acui/projects/deconstructing-lottery-tickets/masked_networks.py:183: Bernoulli.__init__ (from tensorflow.python.ops.distributions.bernoulli) is deprecated and will be removed after 2019-01-01.\n",
      "Instructions for updating:\n",
      "The TensorFlow Distributions library has moved to TensorFlow Probability (https://github.com/tensorflow/probability). You should update all references to use `tfp.distributions` instead of `tf.distributions`.\n",
      "WARNING:tensorflow:From /home/acui/torch_1.7.1_env/lib/python3.8/site-packages/tensorflow/python/ops/distributions/bernoulli.py:90: Distribution.__init__ (from tensorflow.python.ops.distributions.distribution) is deprecated and will be removed after 2019-01-01.\n",
      "Instructions for updating:\n",
      "The TensorFlow Distributions library has moved to TensorFlow Probability (https://github.com/tensorflow/probability). You should update all references to use `tfp.distributions` instead of `tf.distributions`.\n"
     ]
    }
   ],
   "source": [
    "train_x, train_y = read_input_data(args.train_h5)\n",
    "test_x, test_y = read_input_data(args.test_h5) # used as val for now\n",
    "images_scale = np.max(train_x)\n",
    "if images_scale > 1:\n",
    "    print('Normalizing images by a factor of {}'.format(images_scale))\n",
    "    train_x = train_x / images_scale\n",
    "    test_x = test_x / images_scale\n",
    "\n",
    "\n",
    "if args.test_batch_size == 0:\n",
    "    args.test_batch_size = test_y.shape[0]\n",
    "\n",
    "print('Data shapes:', train_x.shape, train_y.shape, test_x.shape, test_y.shape)\n",
    "if train_y.shape[0] % args.train_batch_size != 0:\n",
    "    print(\"WARNING batch size doesn't divide train set evenly\")\n",
    "if train_y.shape[0] % args.large_batch_size != 0:\n",
    "    print(\"WARNING large batch size doesn't divide train set evenly\")\n",
    "if test_y.shape[0] % args.test_batch_size != 0:\n",
    "    print(\"WARNING batch size doesn't divide test set evenly\")\n",
    "\n",
    "# build model, masked networks\n",
    "if args.arch == 'fc_mask':\n",
    "    model = masked_networks.build_fc_supermask(args)\n",
    "        \n",
    "init_model(model, args)\n",
    "# define_training(model, args)\n",
    "\n",
    "\n",
    "sess = tf.compat.v1.InteractiveSession()\n",
    "sess.run(tf.compat.v1.global_variables_initializer())"
   ]
  },
  {
   "cell_type": "code",
   "execution_count": 34,
   "id": "related-bhutan",
   "metadata": {},
   "outputs": [
    {
     "name": "stdout",
     "output_type": "stream",
     "text": [
      "loading weights for layer 0: sequential_network/fc_1/kernel:0\n",
      "loading weights for layer 1: sequential_network/fc_1/bias:0\n",
      "loading weights for layer 2: sequential_network/fc_1/mask:0\n",
      "loading weights for layer 3: sequential_network/fc_2/kernel:0\n",
      "loading weights for layer 4: sequential_network/fc_2/bias:0\n",
      "loading weights for layer 5: sequential_network/fc_2/mask:0\n",
      "loading weights for layer 6: sequential_network/fc_3/kernel:0\n",
      "loading weights for layer 7: sequential_network/fc_3/bias:0\n",
      "loading weights for layer 8: sequential_network/fc_3/mask:0\n"
     ]
    }
   ],
   "source": [
    "if not args.init_weights_h5.endswith('/weights'):\n",
    "    h5file = os.path.join(args.init_weights_h5, 'weights')\n",
    "else:\n",
    "    h5file = args.init_weights_h5\n",
    "hf_weights = h5py.File(h5file, 'r')\n",
    "init_weights_flat = hf_weights.get('all_weights')[0]\n",
    "final_weights_flat = hf_weights.get('all_weights')[-1]\n",
    "current_mask = np.array(hf_weights.get('mask_values'))\n",
    "\n",
    "shapes = [literal_eval(s) for s in hf_weights.attrs['var_shapes'].decode('utf-8').split(';')]\n",
    "hf_weights.close()\n",
    "\n",
    "weight_values = split_and_shape(init_weights_flat, shapes)\n",
    "final_weight_values = split_and_shape(final_weights_flat, shapes)\n",
    "gk = tf.compat.v1.get_collection(tf.compat.v1.GraphKeys.TRAINABLE_VARIABLES)\n",
    "if len(gk) > 9:\n",
    "    print(\"You need to restart the kernel - graphkeys have been replicated\")\n",
    "\n",
    "for i, w in enumerate(gk):\n",
    "   #if 'mask' not in w.name: # HACK for biased masks\n",
    "    print('loading weights for layer {}: {}'.format(i, w.name))\n",
    "    w.load(weight_values[i], session=sess)"
   ]
  },
  {
   "cell_type": "code",
   "execution_count": 75,
   "id": "limited-iceland",
   "metadata": {},
   "outputs": [
    {
     "name": "stdout",
     "output_type": "stream",
     "text": [
      "Basic info\n",
      "Shape: (784, 300)\n",
      "Fraction masked: 0.07955035490236648\n",
      "Shape: (300, 100)\n",
      "Fraction masked: 0.8608754016616333\n",
      "Shape: (100, 10)\n",
      "Fraction masked: 4.2978359382748605\n",
      "Total fraction masked: 0.18344981766025714\n"
     ]
    }
   ],
   "source": [
    "mask_layers = final_weight_values[2::3]\n",
    "print(\"Basic info\")\n",
    "all_mask_weights = []\n",
    "for mask_layer in mask_layers:\n",
    "    print(\"Shape:\", mask_layer.shape)\n",
    "    print(\"Fraction masked:\", mask_layer.mean())\n",
    "    all_mask_weights.append(mask_layer.flatten())\n",
    "all_mask_weights = np.concatenate(all_mask_weights)\n",
    "print(\"Total fraction masked:\", all_mask_weights.mean())"
   ]
  },
  {
   "cell_type": "code",
   "execution_count": 79,
   "id": "adapted-celtic",
   "metadata": {},
   "outputs": [
    {
     "data": {
      "text/plain": [
       "(array([[10., 10.,  3.,  2.,  0.,  0.,  1., 10., 38., 26.],\n",
       "        [11., 17.,  6.,  1.,  1.,  1.,  0.,  3., 25., 35.],\n",
       "        [12., 12.,  4.,  1.,  1.,  1.,  1.,  8., 19., 41.],\n",
       "        [ 8., 13.,  2.,  0.,  1.,  2.,  3.,  5., 31., 35.],\n",
       "        [10., 14.,  5.,  1.,  1.,  1.,  0.,  8., 22., 38.],\n",
       "        [16.,  8.,  1.,  1.,  3.,  1.,  1.,  7., 19., 43.],\n",
       "        [12., 16.,  2.,  2.,  0.,  0.,  2.,  7., 28., 31.],\n",
       "        [ 8., 11.,  6.,  0.,  2.,  1.,  0.,  8., 29., 35.],\n",
       "        [11., 12.,  7.,  5.,  1.,  2.,  3.,  6., 18., 35.],\n",
       "        [ 6.,  8.,  6.,  6.,  2.,  0.,  2.,  6., 27., 37.]]),\n",
       " array([-11.06165981,  -8.76090431,  -6.46014881,  -4.15939331,\n",
       "         -1.85863781,   0.44211769,   2.74287319,   5.04362869,\n",
       "          7.34438419,   9.64513969,  11.9458952 ]),\n",
       " <a list of 10 BarContainer objects>)"
      ]
     },
     "execution_count": 79,
     "metadata": {},
     "output_type": "execute_result"
    },
    {
     "data": {
      "image/png": "[encoded data removed]",
      "text/plain": [
       "<Figure size 432x288 with 1 Axes>"
      ]
     },
     "metadata": {
      "needs_background": "light"
     },
     "output_type": "display_data"
    }
   ],
   "source": [
    "import matplotlib.pyplot as plt\n",
    "plt.hist(mask_layers[-1])"
   ]
  },
  {
   "cell_type": "code",
   "execution_count": 40,
   "id": "early-bishop",
   "metadata": {},
   "outputs": [],
   "source": [
    "args.method = 'large_final_same_sign'\n",
    "args.prev_weights = args.init_weights_h5\n",
    "args.output_dir = args.init_weights_h5\n",
    "assert('weights' not in args.output_dir)\n",
    "args.prune_base = \"0.8,0.9\"\n",
    "args.prune_power = 1\n",
    "args.layer_cutoff = \"4,6\"\n",
    "args.seed = args.tf_seed\n",
    "args.final_weight_interpolation = 1\n",
    "args.final_weights_ind = -1"
   ]
  },
  {
   "cell_type": "code",
   "execution_count": 43,
   "id": "pharmaceutical-american",
   "metadata": {},
   "outputs": [
    {
     "data": {
      "text/plain": [
       "'./results/iter_lot_fc_orig/learned_supermasks_seed_1_attempt_0/run1'"
      ]
     },
     "execution_count": 43,
     "metadata": {},
     "output_type": "execute_result"
    }
   ],
   "source": [
    "args.init_weights_h5"
   ]
  },
  {
   "cell_type": "code",
   "execution_count": 49,
   "id": "pretty-guarantee",
   "metadata": {},
   "outputs": [],
   "source": [
    "preproc_cmd = (\n",
    "    'python get_weight_init.py --method ' + args.method +\n",
    "    ' --weights_h5 ' + args.prev_weights + '/weights' +\n",
    "    ' --output_h5 ' + args.output_dir + '/init_weights' +\n",
    "    ' --prune_base ' + args.prune_base +\n",
    "    ' --prune_power ' + str(args.prune_power) +\n",
    "    ' --layer_cutoff ' + args.layer_cutoff + \n",
    "    ' --seed ' + str(args.seed) +\n",
    "    ' --final_weight_interpolation ' + str(args.final_weight_interpolation) +\n",
    "    ' --final_weights_ind ' + str(args.final_weights_ind))\n",
    "# os.system(preproc_cmd)"
   ]
  },
  {
   "cell_type": "code",
   "execution_count": 50,
   "id": "searching-jersey",
   "metadata": {},
   "outputs": [
    {
     "data": {
      "text/plain": [
       "CompletedProcess(args=['python', 'get_weight_init.py', '--method', 'large_final_same_sign', '--weights_h5', './results/iter_lot_fc_orig/learned_supermasks_seed_1_attempt_0/run1/weights', '--output_h5', './results/iter_lot_fc_orig/learned_supermasks_seed_1_attempt_0/run1/init_weights', '--prune_base', '0.8,0.9', '--prune_power', '1', '--layer_cutoff', '4,6', '--seed', '1', '--final_weight_interpolation', '1', '--final_weights_ind', '-1'], returncode=0, stdout=b'==prune percentiles are: \\n[19.999999999999996, 0, 19.999999999999996, 0, 9.999999999999998, 0]\\n==no mask exists - generating first mask\\n', stderr=b'2021-05-30 04:11:57.928472: I tensorflow/stream_executor/platform/default/dso_loader.cc:49] Successfully opened dynamic library libcudart.so.11.0\\nget_weight_init.py:47: DeprecationWarning: `np.int` is a deprecated alias for the builtin `int`. To silence this warning, use `int` by itself. Doing this will not modify any behavior and is safe. When replacing `np.int`, you may wish to use e.g. `np.int64` or `np.int32` to specify the precision. If you wish to review your current use, check the release note link for additional information.\\nDeprecated in NumPy 1.20; for more details and guidance: https://numpy.org/devdocs/release/1.20.0-notes.html#deprecations\\n  prune_num = np.int(np.sum(cur_mask) * percentile / 100)\\n')"
      ]
     },
     "execution_count": 50,
     "metadata": {},
     "output_type": "execute_result"
    }
   ],
   "source": [
    "import subprocess\n",
    "subprocess.run(preproc_cmd.split(), capture_output=True)"
   ]
  },
  {
   "cell_type": "code",
   "execution_count": 51,
   "id": "digital-sister",
   "metadata": {},
   "outputs": [],
   "source": [
    "if not args.init_weights_h5.endswith('/init_weights'):\n",
    "    preproc_h5file = os.path.join(args.init_weights_h5, 'init_weights')\n",
    "else:\n",
    "    preproc_h5file = args.init_weights_h5\n",
    "preproc_hf_weights = h5py.File(preproc_h5file, 'r')"
   ]
  },
  {
   "cell_type": "code",
   "execution_count": 72,
   "id": "tired-responsibility",
   "metadata": {},
   "outputs": [
    {
     "name": "stdout",
     "output_type": "stream",
     "text": [
      "(532810,)\n",
      "(532810,)\n"
     ]
    }
   ],
   "source": [
    "mask_flat = np.array(preproc_hf_weights.get('mask_values'))\n",
    "print(mask_flat.shape)\n",
    "print(init_weights_flat.shape)"
   ]
  },
  {
   "cell_type": "code",
   "execution_count": 73,
   "id": "acute-vinyl",
   "metadata": {},
   "outputs": [],
   "source": [
    "mask_values = split_and_shape(mask_flat, shapes)"
   ]
  },
  {
   "cell_type": "code",
   "execution_count": 80,
   "id": "iraqi-overview",
   "metadata": {},
   "outputs": [
    {
     "name": "stdout",
     "output_type": "stream",
     "text": [
      "Basic info\n",
      "Shape: (784, 300)\n",
      "Fraction masked: 0.8000042517006802\n",
      "Shape: (300,)\n",
      "Fraction masked: 1.0\n",
      "Shape: (784, 300)\n",
      "Fraction masked: 0.8000042517006802\n",
      "Shape: (300, 100)\n",
      "Fraction masked: 1.0\n",
      "Shape: (100,)\n",
      "Fraction masked: 0.91\n",
      "Shape: (300, 100)\n",
      "Fraction masked: 1.0\n",
      "Shape: (100, 10)\n",
      "Fraction masked: -0.002108986273902701\n",
      "Shape: (10,)\n",
      "Fraction masked: 0.0\n",
      "Shape: (100, 10)\n",
      "Fraction masked: 0.0\n",
      "Total fraction masked: 0.8196371896430737\n"
     ]
    }
   ],
   "source": [
    "mask_layers = mask_values\n",
    "print(\"Basic info\")\n",
    "all_mask_weights = []\n",
    "for mask_layer in mask_layers:\n",
    "    print(\"Shape:\", mask_layer.shape)\n",
    "    print(\"Fraction masked:\", mask_layer.mean())\n",
    "    all_mask_weights.append(mask_layer.flatten())\n",
    "all_mask_weights = np.concatenate(all_mask_weights)\n",
    "print(\"Total fraction masked:\", all_mask_weights.mean())"
   ]
  },
  {
   "cell_type": "code",
   "execution_count": 81,
   "id": "spanish-puppy",
   "metadata": {},
   "outputs": [
    {
     "data": {
      "text/plain": [
       "(array([[ 7.,  3.,  6., 20., 14., 14., 15.,  9.,  7.,  5.],\n",
       "        [ 4.,  5.,  9., 13., 15., 17., 17., 15.,  4.,  1.],\n",
       "        [ 4., 10.,  5., 14., 10., 15., 13., 10., 11.,  8.],\n",
       "        [ 8.,  7.,  9., 15., 16., 20., 12.,  4.,  6.,  3.],\n",
       "        [ 4.,  7.,  8., 12., 19., 19., 14., 10.,  6.,  1.],\n",
       "        [ 7.,  5., 13., 17., 16., 14., 12., 10.,  5.,  1.],\n",
       "        [ 1.,  8.,  8., 13., 19., 21., 13.,  6.,  7.,  4.],\n",
       "        [ 5.,  5., 16., 10., 19., 19., 12.,  9.,  4.,  1.],\n",
       "        [ 4.,  3.,  8.,  8., 16., 18., 17., 16.,  8.,  2.],\n",
       "        [ 6.,  4., 13., 15.,  9., 13., 16., 13.,  7.,  4.]]),\n",
       " array([-0.30366468, -0.24307908, -0.18249348, -0.12190787, -0.06132227,\n",
       "        -0.00073667,  0.05984893,  0.12043454,  0.18102014,  0.24160574,\n",
       "         0.30219135]),\n",
       " <a list of 10 BarContainer objects>)"
      ]
     },
     "execution_count": 81,
     "metadata": {},
     "output_type": "execute_result"
    },
    {
     "data": {
      "image/png": "[encoded data removed]",
      "text/plain": [
       "<Figure size 432x288 with 1 Axes>"
      ]
     },
     "metadata": {
      "needs_background": "light"
     },
     "output_type": "display_data"
    }
   ],
   "source": [
    "import matplotlib.pyplot as plt\n",
    "plt.hist(mask_layers[-3])"
   ]
  },
  {
   "cell_type": "code",
   "execution_count": null,
   "id": "divine-corrections",
   "metadata": {},
   "outputs": [],
   "source": []
  }
 ],
 "metadata": {
  "kernelspec": {
   "display_name": "Python 3",
   "language": "python",
   "name": "python3"
  },
  "language_info": {
   "codemirror_mode": {
    "name": "ipython",
    "version": 3
   },
   "file_extension": ".py",
   "mimetype": "text/x-python",
   "name": "python",
   "nbconvert_exporter": "python",
   "pygments_lexer": "ipython3",
   "version": "3.8.5"
  }
 },
 "nbformat": 4,
 "nbformat_minor": 5
}
