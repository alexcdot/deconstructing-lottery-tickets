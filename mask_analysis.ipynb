{
 "cells": [
  {
   "cell_type": "code",
   "execution_count": 216,
   "id": "studied-mention",
   "metadata": {},
   "outputs": [],
   "source": [
    "from __future__ import print_function\n",
    "from __future__ import division\n",
    "\n",
    "from ast import literal_eval\n",
    "\n",
    "import tensorflow as tf\n",
    "tf.compat.v1.disable_eager_execution()\n",
    "\n",
    "import numpy as np\n",
    "import time\n",
    "import h5py\n",
    "import argparse\n",
    "import os\n",
    "import sys\n",
    "import matplotlib.pyplot as plt\n",
    "import pandas as pd\n",
    "\n",
    "import masked_networks\n",
    "from tf_plus import learning_phase, batchnorm_learning_phase\n",
    "from tf_plus import sess_run_dict, add_classification_losses\n",
    "from tf_plus import summarize_weights\n",
    "from train_supermask import make_parser, read_input_data, \\\n",
    "    init_model, load_initial_weights, split_and_shape"
   ]
  },
  {
   "cell_type": "code",
   "execution_count": 222,
   "id": "consistent-reynolds",
   "metadata": {},
   "outputs": [],
   "source": [
    "metaparser = argparse.ArgumentParser()\n",
    "metaparser.add_argument('--experiment_name', type=str, required=True)\n",
    "meta_args = metaparser.parse_args([\"--experiment_name\", \"control_3\"])"
   ]
  },
  {
   "cell_type": "code",
   "execution_count": 224,
   "id": "looking-glossary",
   "metadata": {},
   "outputs": [],
   "source": [
    "def build_input_dir(seed, meta_args):\n",
    "    attempt_num = 0\n",
    "    experiment_name = meta_args.experiment_name\n",
    "    pretrained_epochs = None\n",
    "\n",
    "    if experiment_name == \"control_3\":\n",
    "        input_dir = \"./results/iter_lot_fc_orig/learned_supermasks_seed_{seed}_attempt_{attempt_num}/run1\".format(\n",
    "            seed=seed,\n",
    "            attempt_num=attempt_num)\n",
    "\n",
    "    elif experiment_name == \"pretrained_supermask\":\n",
    "        input_dir = \"./results/iter_lot_fc_orig/fc_lot_${pretrained_epochs}_epochs_seed_${seed}_${attempt_num}/run1\".format(\n",
    "            pretrained_epochs=pretrained_epochs,\n",
    "            seed=seed,\n",
    "            attempt_num=attempt_num)\n",
    "    return input_dir\n",
    "\n",
    "\n",
    "parser = make_parser()\n",
    "# Have a seed just to satisfy the requirements\n",
    "seed = 1\n",
    "input_dir = build_input_dir(seed, meta_args)\n",
    "\n",
    "args_str = \"\"\"--train_h5 ./data/mnist_train.h5 --test_h5 ./data/mnist_test.h5\n",
    "--arch fc_mask --opt sgd --lr 100 --num_epochs 500 --print_every 220\n",
    "--eval_every 220 --log_every 220 --save_weights --save_every 22000\n",
    "--tf_seed {}\n",
    "--init_weights_h5 {}\n",
    "\"\"\".format(seed, input_dir).split()\n",
    "args = parser.parse_args(args_str)"
   ]
  },
  {
   "cell_type": "code",
   "execution_count": 3,
   "id": "compound-dayton",
   "metadata": {},
   "outputs": [
    {
     "name": "stdout",
     "output_type": "stream",
     "text": [
      "Normalizing images by a factor of 255\n",
      "Data shapes: (55000, 28, 28, 1) (55000,) (10000, 28, 28, 1) (10000,)\n",
      "WARNING:tensorflow:From /home/acui/projects/deconstructing-lottery-tickets/masked_networks.py:183: Bernoulli.__init__ (from tensorflow.python.ops.distributions.bernoulli) is deprecated and will be removed after 2019-01-01.\n",
      "Instructions for updating:\n",
      "The TensorFlow Distributions library has moved to TensorFlow Probability (https://github.com/tensorflow/probability). You should update all references to use `tfp.distributions` instead of `tf.distributions`.\n",
      "WARNING:tensorflow:From /home/acui/torch_1.7.1_env/lib/python3.8/site-packages/tensorflow/python/ops/distributions/bernoulli.py:90: Distribution.__init__ (from tensorflow.python.ops.distributions.distribution) is deprecated and will be removed after 2019-01-01.\n",
      "Instructions for updating:\n",
      "The TensorFlow Distributions library has moved to TensorFlow Probability (https://github.com/tensorflow/probability). You should update all references to use `tfp.distributions` instead of `tf.distributions`.\n"
     ]
    }
   ],
   "source": [
    "train_x, train_y = read_input_data(args.train_h5)\n",
    "test_x, test_y = read_input_data(args.test_h5) # used as val for now\n",
    "images_scale = np.max(train_x)\n",
    "if images_scale > 1:\n",
    "    print('Normalizing images by a factor of {}'.format(images_scale))\n",
    "    train_x = train_x / images_scale\n",
    "    test_x = test_x / images_scale\n",
    "\n",
    "\n",
    "if args.test_batch_size == 0:\n",
    "    args.test_batch_size = test_y.shape[0]\n",
    "\n",
    "print('Data shapes:', train_x.shape, train_y.shape, test_x.shape, test_y.shape)\n",
    "if train_y.shape[0] % args.train_batch_size != 0:\n",
    "    print(\"WARNING batch size doesn't divide train set evenly\")\n",
    "if train_y.shape[0] % args.large_batch_size != 0:\n",
    "    print(\"WARNING large batch size doesn't divide train set evenly\")\n",
    "if test_y.shape[0] % args.test_batch_size != 0:\n",
    "    print(\"WARNING batch size doesn't divide test set evenly\")\n",
    "\n",
    "# build model, masked networks\n",
    "if args.arch == 'fc_mask':\n",
    "    model = masked_networks.build_fc_supermask(args)\n",
    "else:\n",
    "    raise Exception(\"Not prepared for non fc_mask model\")\n",
    "        \n",
    "init_model(model, args)\n",
    "\n",
    "sess = tf.compat.v1.InteractiveSession()\n",
    "sess.run(tf.compat.v1.global_variables_initializer())"
   ]
  },
  {
   "cell_type": "code",
   "execution_count": 215,
   "id": "north-complaint",
   "metadata": {},
   "outputs": [],
   "source": [
    "def sigmoid(x):\n",
    "    return 1/(1+np.exp(-x))\n",
    "\n",
    "\n",
    "def visualize_mask_weights(mask_layers, seed):\n",
    "    num_bins = 20\n",
    "    for i, mask_layer in enumerate(mask_layers):\n",
    "        plt.subplot(len(mask_layers), 2, i * 2 + 1)\n",
    "        plt.hist(mask_layer.flatten(), bins=num_bins)\n",
    "        plt.xlabel(\"Raw mask values at layer {}\".format(i))\n",
    "        plt.subplot(len(mask_layers), 2, i * 2 + 2)\n",
    "        plt.hist(sigmoid(mask_layer.flatten()), bins=num_bins)\n",
    "        plt.xlabel(\"Sigmoided mask values at layer {}\".format(i))\n",
    "    plt.tight_layout()\n",
    "    plt.savefig(os.path.join(args.init_weights_h5,\n",
    "        \"mask_dists_seed_{}.png\".format(seed)))\n",
    "    plt.show()\n",
    "    \n",
    "def get_test_accs(run_dir):\n",
    "    test_accs = []\n",
    "    for filename in os.listdir(run_dir):\n",
    "        if 'tfevents' in filename:\n",
    "            for e in tf.compat.v1.train.summary_iterator(os.path.join(\n",
    "                run_dir, filename\n",
    "            )):\n",
    "                for v in e.summary.value:\n",
    "                    if v.tag == 'eval_test_acc':\n",
    "                        test_accs.append(v.simple_value)\n",
    "    return np.array(test_accs)"
   ]
  },
  {
   "cell_type": "code",
   "execution_count": 225,
   "id": "crazy-aquatic",
   "metadata": {},
   "outputs": [],
   "source": [
    "def run_analysis_on_seed(seed, meta_args):\n",
    "    seed_info = {\n",
    "        \"seed\": seed,\n",
    "        \"regular_epochs\": 0,\n",
    "        \"supermask_epochs\": 500,\n",
    "        \"experiment_name\": \"control_3\",\n",
    "        \"has_supermask\": 1,\n",
    "        \"has_lth\": 0,\n",
    "        \"test_accuracy\": None\n",
    "    }\n",
    "    \n",
    "    args.init_weights_h5 = build_input_dir(seed, meta_args)\n",
    "    if not args.init_weights_h5.endswith('/weights'):\n",
    "        h5file = os.path.join(args.init_weights_h5, 'weights')\n",
    "    else:\n",
    "        h5file = args.init_weights_h5\n",
    "    hf_weights = h5py.File(h5file, 'r')\n",
    "    all_weights = hf_weights.get('all_weights')\n",
    "    print(\"Number of weight copies:\", len(all_weights))\n",
    "    init_weights_flat = all_weights[0]\n",
    "    final_weights_flat = all_weights[-1]\n",
    "    current_mask = np.array(hf_weights.get('mask_values'))\n",
    "\n",
    "    shapes = [literal_eval(s) for s in hf_weights.attrs['var_shapes'].decode('utf-8').split(';')]\n",
    "    hf_weights.close()\n",
    "\n",
    "    weight_values = split_and_shape(init_weights_flat, shapes)\n",
    "    final_weight_values = split_and_shape(final_weights_flat, shapes)\n",
    "    gk = tf.compat.v1.get_collection(tf.compat.v1.GraphKeys.TRAINABLE_VARIABLES)\n",
    "    if len(gk) > 9:\n",
    "        print(\"You need to restart the kernel - graphkeys have been replicated\" +\n",
    "              \" and there's no going back\")\n",
    "\n",
    "    for i, w in enumerate(gk):\n",
    "       #if 'mask' not in w.name: # HACK for biased masks\n",
    "        print('loading weights for layer {}: {}'.format(i, w.name))\n",
    "        w.load(weight_values[i], session=sess)\n",
    "\n",
    "\n",
    "    mask_layers = final_weight_values[2::3]\n",
    "    print(\"Basic info\")\n",
    "    all_mask_weights = []\n",
    "    for mask_layer in mask_layers:\n",
    "        print(\"Shape:\", mask_layer.shape)\n",
    "        print(\"Average fraction masked:\", 1-sigmoid(mask_layer).mean())\n",
    "        print(\"Min: {}, Max: {}\\n\".format(\n",
    "            mask_layer.min(), mask_layer.max()))\n",
    "        all_mask_weights.append(mask_layer.flatten())\n",
    "    all_mask_weights = np.concatenate(all_mask_weights)\n",
    "    print(\"Total average fraction masked:\", 1-sigmoid(all_mask_weights).mean())\n",
    "    \n",
    "    # Visualize and save img of mask weight distribution\n",
    "    visualize_mask_weights(mask_layers, seed)\n",
    "    \n",
    "    seed_info[\"test_accuracy\"] = get_test_accs(args.init_weights_h5).max()\n",
    "    return seed_info"
   ]
  },
  {
   "cell_type": "code",
   "execution_count": 226,
   "id": "coupled-russian",
   "metadata": {},
   "outputs": [
    {
     "name": "stdout",
     "output_type": "stream",
     "text": [
      "Number of weight copies: 6\n",
      "loading weights for layer 0: sequential_network/fc_1/kernel:0\n",
      "loading weights for layer 1: sequential_network/fc_1/bias:0\n",
      "loading weights for layer 2: sequential_network/fc_1/mask:0\n",
      "loading weights for layer 3: sequential_network/fc_2/kernel:0\n",
      "loading weights for layer 4: sequential_network/fc_2/bias:0\n",
      "loading weights for layer 5: sequential_network/fc_2/mask:0\n",
      "loading weights for layer 6: sequential_network/fc_3/kernel:0\n",
      "loading weights for layer 7: sequential_network/fc_3/bias:0\n",
      "loading weights for layer 8: sequential_network/fc_3/mask:0\n",
      "Basic info\n",
      "Shape: (784, 300)\n",
      "Average fraction masked: 0.49366632629611207\n",
      "Min: -8.745142936706543, Max: 8.770081520080566\n",
      "\n",
      "Shape: (300, 100)\n",
      "Average fraction masked: 0.4430654096143837\n",
      "Min: -9.099223136901855, Max: 9.445528984069824\n",
      "\n",
      "Shape: (100, 10)\n",
      "Average fraction masked: 0.2941315581819023\n",
      "Min: -11.061659812927246, Max: 11.945895195007324\n",
      "\n",
      "Total average fraction masked: 0.48721417652689325\n"
     ]
    },
    {
     "data": {
      "image/png": "[encoded data removed]",
      "text/plain": [
       "<Figure size 432x288 with 6 Axes>"
      ]
     },
     "metadata": {
      "needs_background": "light"
     },
     "output_type": "display_data"
    },
    {
     "name": "stdout",
     "output_type": "stream",
     "text": [
      "Number of weight copies: 6\n",
      "loading weights for layer 0: sequential_network/fc_1/kernel:0\n",
      "loading weights for layer 1: sequential_network/fc_1/bias:0\n",
      "loading weights for layer 2: sequential_network/fc_1/mask:0\n",
      "loading weights for layer 3: sequential_network/fc_2/kernel:0\n",
      "loading weights for layer 4: sequential_network/fc_2/bias:0\n",
      "loading weights for layer 5: sequential_network/fc_2/mask:0\n",
      "loading weights for layer 6: sequential_network/fc_3/kernel:0\n",
      "loading weights for layer 7: sequential_network/fc_3/bias:0\n",
      "loading weights for layer 8: sequential_network/fc_3/mask:0\n",
      "Basic info\n",
      "Shape: (784, 300)\n",
      "Average fraction masked: 0.49401024543782923\n",
      "Min: -8.639673233032227, Max: 8.84908390045166\n",
      "\n",
      "Shape: (300, 100)\n",
      "Average fraction masked: 0.44542809403215067\n",
      "Min: -9.390898704528809, Max: 9.471814155578613\n",
      "\n",
      "Shape: (100, 10)\n",
      "Average fraction masked: 0.266864942915776\n",
      "Min: -11.189888000488281, Max: 12.006192207336426\n",
      "\n",
      "Total average fraction masked: 0.48768188388751965\n"
     ]
    },
    {
     "data": {
      "image/png": "[encoded data removed]",
      "text/plain": [
       "<Figure size 432x288 with 6 Axes>"
      ]
     },
     "metadata": {
      "needs_background": "light"
     },
     "output_type": "display_data"
    },
    {
     "name": "stdout",
     "output_type": "stream",
     "text": [
      "Number of weight copies: 6\n",
      "loading weights for layer 0: sequential_network/fc_1/kernel:0\n",
      "loading weights for layer 1: sequential_network/fc_1/bias:0\n",
      "loading weights for layer 2: sequential_network/fc_1/mask:0\n",
      "loading weights for layer 3: sequential_network/fc_2/kernel:0\n",
      "loading weights for layer 4: sequential_network/fc_2/bias:0\n",
      "loading weights for layer 5: sequential_network/fc_2/mask:0\n",
      "loading weights for layer 6: sequential_network/fc_3/kernel:0\n",
      "loading weights for layer 7: sequential_network/fc_3/bias:0\n",
      "loading weights for layer 8: sequential_network/fc_3/mask:0\n",
      "Basic info\n",
      "Shape: (784, 300)\n",
      "Average fraction masked: 0.49527027007267577\n",
      "Min: -8.856532096862793, Max: 8.800651550292969\n",
      "\n",
      "Shape: (300, 100)\n",
      "Average fraction masked: 0.4476040438964364\n",
      "Min: -9.175764083862305, Max: 9.510625839233398\n",
      "\n",
      "Shape: (100, 10)\n",
      "Average fraction masked: 0.2679447130570237\n",
      "Min: -10.46463680267334, Max: 11.938383102416992\n",
      "\n",
      "Total average fraction masked: 0.48904445361023086\n"
     ]
    },
    {
     "data": {
      "image/png": "[encoded data removed]",
      "text/plain": [
       "<Figure size 432x288 with 6 Axes>"
      ]
     },
     "metadata": {
      "needs_background": "light"
     },
     "output_type": "display_data"
    },
    {
     "name": "stdout",
     "output_type": "stream",
     "text": [
      "Number of weight copies: 6\n",
      "loading weights for layer 0: sequential_network/fc_1/kernel:0\n",
      "loading weights for layer 1: sequential_network/fc_1/bias:0\n",
      "loading weights for layer 2: sequential_network/fc_1/mask:0\n",
      "loading weights for layer 3: sequential_network/fc_2/kernel:0\n",
      "loading weights for layer 4: sequential_network/fc_2/bias:0\n",
      "loading weights for layer 5: sequential_network/fc_2/mask:0\n",
      "loading weights for layer 6: sequential_network/fc_3/kernel:0\n",
      "loading weights for layer 7: sequential_network/fc_3/bias:0\n",
      "loading weights for layer 8: sequential_network/fc_3/mask:0\n",
      "Basic info\n",
      "Shape: (784, 300)\n",
      "Average fraction masked: 0.4936519118269175\n",
      "Min: -8.797584533691406, Max: 8.775428771972656\n",
      "\n",
      "Shape: (300, 100)\n",
      "Average fraction masked: 0.4369212863786093\n",
      "Min: -9.463261604309082, Max: 9.599008560180664\n",
      "\n",
      "Shape: (100, 10)\n",
      "Average fraction masked: 0.28840648941474367\n",
      "Min: -10.822389602661133, Max: 11.954116821289062\n",
      "\n",
      "Total average fraction masked: 0.48648750842398203\n"
     ]
    },
    {
     "data": {
      "image/png": "[encoded data removed]",
      "text/plain": [
       "<Figure size 432x288 with 6 Axes>"
      ]
     },
     "metadata": {
      "needs_background": "light"
     },
     "output_type": "display_data"
    },
    {
     "name": "stdout",
     "output_type": "stream",
     "text": [
      "Number of weight copies: 6\n",
      "loading weights for layer 0: sequential_network/fc_1/kernel:0\n",
      "loading weights for layer 1: sequential_network/fc_1/bias:0\n",
      "loading weights for layer 2: sequential_network/fc_1/mask:0\n",
      "loading weights for layer 3: sequential_network/fc_2/kernel:0\n",
      "loading weights for layer 4: sequential_network/fc_2/bias:0\n",
      "loading weights for layer 5: sequential_network/fc_2/mask:0\n",
      "loading weights for layer 6: sequential_network/fc_3/kernel:0\n",
      "loading weights for layer 7: sequential_network/fc_3/bias:0\n",
      "loading weights for layer 8: sequential_network/fc_3/mask:0\n",
      "Basic info\n",
      "Shape: (784, 300)\n",
      "Average fraction masked: 0.49377564732348866\n",
      "Min: -8.79906177520752, Max: 8.777606010437012\n",
      "\n",
      "Shape: (300, 100)\n",
      "Average fraction masked: 0.4387572350564827\n",
      "Min: -9.106077194213867, Max: 9.39047622680664\n",
      "\n",
      "Shape: (100, 10)\n",
      "Average fraction masked: 0.2701722657263711\n",
      "Min: -11.514673233032227, Max: 11.890459060668945\n",
      "\n",
      "Total average fraction masked: 0.48673524255411493\n"
     ]
    },
    {
     "data": {
      "image/png": "[encoded data removed]",
      "text/plain": [
       "<Figure size 432x288 with 6 Axes>"
      ]
     },
     "metadata": {
      "needs_background": "light"
     },
     "output_type": "display_data"
    },
    {
     "name": "stdout",
     "output_type": "stream",
     "text": [
      "Number of weight copies: 6\n",
      "loading weights for layer 0: sequential_network/fc_1/kernel:0\n",
      "loading weights for layer 1: sequential_network/fc_1/bias:0\n",
      "loading weights for layer 2: sequential_network/fc_1/mask:0\n",
      "loading weights for layer 3: sequential_network/fc_2/kernel:0\n",
      "loading weights for layer 4: sequential_network/fc_2/bias:0\n",
      "loading weights for layer 5: sequential_network/fc_2/mask:0\n",
      "loading weights for layer 6: sequential_network/fc_3/kernel:0\n",
      "loading weights for layer 7: sequential_network/fc_3/bias:0\n",
      "loading weights for layer 8: sequential_network/fc_3/mask:0\n",
      "Basic info\n",
      "Shape: (784, 300)\n",
      "Average fraction masked: 0.4947505609114091\n",
      "Min: -8.63525676727295, Max: 8.78791332244873\n",
      "\n",
      "Shape: (300, 100)\n",
      "Average fraction masked: 0.445423152955311\n",
      "Min: -9.14242935180664, Max: 9.405923843383789\n",
      "\n",
      "Shape: (100, 10)\n",
      "Average fraction masked: 0.2712245623994629\n",
      "Min: -10.712346076965332, Max: 11.890719413757324\n",
      "\n",
      "Total average fraction masked: 0.48835180720293836\n"
     ]
    },
    {
     "data": {
      "image/png": "[encoded data removed]",
      "text/plain": [
       "<Figure size 432x288 with 6 Axes>"
      ]
     },
     "metadata": {
      "needs_background": "light"
     },
     "output_type": "display_data"
    },
    {
     "name": "stdout",
     "output_type": "stream",
     "text": [
      "Number of weight copies: 6\n",
      "loading weights for layer 0: sequential_network/fc_1/kernel:0\n",
      "loading weights for layer 1: sequential_network/fc_1/bias:0\n",
      "loading weights for layer 2: sequential_network/fc_1/mask:0\n",
      "loading weights for layer 3: sequential_network/fc_2/kernel:0\n",
      "loading weights for layer 4: sequential_network/fc_2/bias:0\n",
      "loading weights for layer 5: sequential_network/fc_2/mask:0\n",
      "loading weights for layer 6: sequential_network/fc_3/kernel:0\n",
      "loading weights for layer 7: sequential_network/fc_3/bias:0\n",
      "loading weights for layer 8: sequential_network/fc_3/mask:0\n",
      "Basic info\n",
      "Shape: (784, 300)\n",
      "Average fraction masked: 0.4954210737768062\n",
      "Min: -9.154684066772461, Max: 8.8885498046875\n",
      "\n",
      "Shape: (300, 100)\n",
      "Average fraction masked: 0.44294386145563036\n",
      "Min: -9.34191608428955, Max: 9.41357135772705\n",
      "\n",
      "Shape: (100, 10)\n",
      "Average fraction masked: 0.2607077165066547\n",
      "Min: -10.82752513885498, Max: 12.085275650024414\n",
      "\n",
      "Total average fraction masked: 0.4886253197313313\n"
     ]
    },
    {
     "data": {
      "image/png": "[encoded data removed]",
      "text/plain": [
       "<Figure size 432x288 with 6 Axes>"
      ]
     },
     "metadata": {
      "needs_background": "light"
     },
     "output_type": "display_data"
    },
    {
     "name": "stdout",
     "output_type": "stream",
     "text": [
      "Number of weight copies: 6\n",
      "loading weights for layer 0: sequential_network/fc_1/kernel:0\n",
      "loading weights for layer 1: sequential_network/fc_1/bias:0\n",
      "loading weights for layer 2: sequential_network/fc_1/mask:0\n",
      "loading weights for layer 3: sequential_network/fc_2/kernel:0\n",
      "loading weights for layer 4: sequential_network/fc_2/bias:0\n",
      "loading weights for layer 5: sequential_network/fc_2/mask:0\n",
      "loading weights for layer 6: sequential_network/fc_3/kernel:0\n",
      "loading weights for layer 7: sequential_network/fc_3/bias:0\n",
      "loading weights for layer 8: sequential_network/fc_3/mask:0\n",
      "Basic info\n",
      "Shape: (784, 300)\n",
      "Average fraction masked: 0.4923796902370864\n",
      "Min: -9.009828567504883, Max: 8.76710319519043\n",
      "\n",
      "Shape: (300, 100)\n",
      "Average fraction masked: 0.44213113848778895\n",
      "Min: -9.375802040100098, Max: 9.398818016052246\n",
      "\n",
      "Shape: (100, 10)\n",
      "Average fraction masked: 0.30031300841094366\n",
      "Min: -10.73093318939209, Max: 12.092970848083496\n",
      "\n",
      "Total average fraction masked: 0.4859953054350389\n"
     ]
    },
    {
     "data": {
      "image/png": "[encoded data removed]",
      "text/plain": [
       "<Figure size 432x288 with 6 Axes>"
      ]
     },
     "metadata": {
      "needs_background": "light"
     },
     "output_type": "display_data"
    },
    {
     "name": "stdout",
     "output_type": "stream",
     "text": [
      "Number of weight copies: 6\n",
      "loading weights for layer 0: sequential_network/fc_1/kernel:0\n",
      "loading weights for layer 1: sequential_network/fc_1/bias:0\n",
      "loading weights for layer 2: sequential_network/fc_1/mask:0\n",
      "loading weights for layer 3: sequential_network/fc_2/kernel:0\n",
      "loading weights for layer 4: sequential_network/fc_2/bias:0\n",
      "loading weights for layer 5: sequential_network/fc_2/mask:0\n",
      "loading weights for layer 6: sequential_network/fc_3/kernel:0\n",
      "loading weights for layer 7: sequential_network/fc_3/bias:0\n",
      "loading weights for layer 8: sequential_network/fc_3/mask:0\n",
      "Basic info\n",
      "Shape: (784, 300)\n",
      "Average fraction masked: 0.49346783716346987\n",
      "Min: -8.721031188964844, Max: 8.959908485412598\n",
      "\n",
      "Shape: (300, 100)\n",
      "Average fraction masked: 0.4388893636481721\n",
      "Min: -9.227861404418945, Max: 9.400235176086426\n",
      "\n",
      "Shape: (100, 10)\n",
      "Average fraction masked: 0.2735988413933853\n",
      "Min: -10.69752025604248, Max: 11.974520683288574\n",
      "\n",
      "Total average fraction masked: 0.48649104076516403\n"
     ]
    },
    {
     "data": {
      "image/png": "[encoded data removed]",
      "text/plain": [
       "<Figure size 432x288 with 6 Axes>"
      ]
     },
     "metadata": {
      "needs_background": "light"
     },
     "output_type": "display_data"
    },
    {
     "name": "stdout",
     "output_type": "stream",
     "text": [
      "Number of weight copies: 6\n",
      "loading weights for layer 0: sequential_network/fc_1/kernel:0\n",
      "loading weights for layer 1: sequential_network/fc_1/bias:0\n",
      "loading weights for layer 2: sequential_network/fc_1/mask:0\n",
      "loading weights for layer 3: sequential_network/fc_2/kernel:0\n",
      "loading weights for layer 4: sequential_network/fc_2/bias:0\n",
      "loading weights for layer 5: sequential_network/fc_2/mask:0\n",
      "loading weights for layer 6: sequential_network/fc_3/kernel:0\n",
      "loading weights for layer 7: sequential_network/fc_3/bias:0\n",
      "loading weights for layer 8: sequential_network/fc_3/mask:0\n",
      "Basic info\n",
      "Shape: (784, 300)\n",
      "Average fraction masked: 0.49410051468580796\n",
      "Min: -8.559091567993164, Max: 8.712869644165039\n",
      "\n",
      "Shape: (300, 100)\n",
      "Average fraction masked: 0.44136655289678917\n",
      "Min: -9.153130531311035, Max: 9.33031177520752\n",
      "\n",
      "Shape: (100, 10)\n",
      "Average fraction masked: 0.2648837779309937\n",
      "Min: -10.517205238342285, Max: 11.761845588684082\n",
      "\n",
      "Total average fraction masked: 0.48729647415077637\n"
     ]
    },
    {
     "data": {
      "image/png": "[encoded data removed]",
      "text/plain": [
       "<Figure size 432x288 with 6 Axes>"
      ]
     },
     "metadata": {
      "needs_background": "light"
     },
     "output_type": "display_data"
    }
   ],
   "source": [
    "seed_infos = []\n",
    "\n",
    "for seed in range(1, 11):\n",
    "    seed_info = run_analysis_on_seed(seed, meta_args)\n",
    "    seed_infos.append(seed_info)\n",
    "    \n",
    "df = pd.DataFrame(seed_infos)"
   ]
  },
  {
   "cell_type": "code",
   "execution_count": 220,
   "id": "western-flesh",
   "metadata": {},
   "outputs": [
    {
     "data": {
      "text/html": [
       "<div>\n",
       "<style scoped>\n",
       "    .dataframe tbody tr th:only-of-type {\n",
       "        vertical-align: middle;\n",
       "    }\n",
       "\n",
       "    .dataframe tbody tr th {\n",
       "        vertical-align: top;\n",
       "    }\n",
       "\n",
       "    .dataframe thead th {\n",
       "        text-align: right;\n",
       "    }\n",
       "</style>\n",
       "<table border=\"1\" class=\"dataframe\">\n",
       "  <thead>\n",
       "    <tr style=\"text-align: right;\">\n",
       "      <th></th>\n",
       "      <th>seed</th>\n",
       "      <th>regular_epochs</th>\n",
       "      <th>supermask_epochs</th>\n",
       "      <th>experiment_name</th>\n",
       "      <th>has_supermask</th>\n",
       "      <th>has_lth</th>\n",
       "      <th>test_accuracy</th>\n",
       "    </tr>\n",
       "  </thead>\n",
       "  <tbody>\n",
       "    <tr>\n",
       "      <th>0</th>\n",
       "      <td>1</td>\n",
       "      <td>0</td>\n",
       "      <td>500</td>\n",
       "      <td>control_3</td>\n",
       "      <td>1</td>\n",
       "      <td>0</td>\n",
       "      <td>0.9483</td>\n",
       "    </tr>\n",
       "    <tr>\n",
       "      <th>1</th>\n",
       "      <td>2</td>\n",
       "      <td>0</td>\n",
       "      <td>500</td>\n",
       "      <td>control_3</td>\n",
       "      <td>1</td>\n",
       "      <td>0</td>\n",
       "      <td>0.9507</td>\n",
       "    </tr>\n",
       "    <tr>\n",
       "      <th>2</th>\n",
       "      <td>3</td>\n",
       "      <td>0</td>\n",
       "      <td>500</td>\n",
       "      <td>control_3</td>\n",
       "      <td>1</td>\n",
       "      <td>0</td>\n",
       "      <td>0.9497</td>\n",
       "    </tr>\n",
       "    <tr>\n",
       "      <th>3</th>\n",
       "      <td>4</td>\n",
       "      <td>0</td>\n",
       "      <td>500</td>\n",
       "      <td>control_3</td>\n",
       "      <td>1</td>\n",
       "      <td>0</td>\n",
       "      <td>0.9494</td>\n",
       "    </tr>\n",
       "    <tr>\n",
       "      <th>4</th>\n",
       "      <td>5</td>\n",
       "      <td>0</td>\n",
       "      <td>500</td>\n",
       "      <td>control_3</td>\n",
       "      <td>1</td>\n",
       "      <td>0</td>\n",
       "      <td>0.9502</td>\n",
       "    </tr>\n",
       "    <tr>\n",
       "      <th>5</th>\n",
       "      <td>6</td>\n",
       "      <td>0</td>\n",
       "      <td>500</td>\n",
       "      <td>control_3</td>\n",
       "      <td>1</td>\n",
       "      <td>0</td>\n",
       "      <td>0.9498</td>\n",
       "    </tr>\n",
       "    <tr>\n",
       "      <th>6</th>\n",
       "      <td>7</td>\n",
       "      <td>0</td>\n",
       "      <td>500</td>\n",
       "      <td>control_3</td>\n",
       "      <td>1</td>\n",
       "      <td>0</td>\n",
       "      <td>0.9470</td>\n",
       "    </tr>\n",
       "    <tr>\n",
       "      <th>7</th>\n",
       "      <td>8</td>\n",
       "      <td>0</td>\n",
       "      <td>500</td>\n",
       "      <td>control_3</td>\n",
       "      <td>1</td>\n",
       "      <td>0</td>\n",
       "      <td>0.9472</td>\n",
       "    </tr>\n",
       "    <tr>\n",
       "      <th>8</th>\n",
       "      <td>9</td>\n",
       "      <td>0</td>\n",
       "      <td>500</td>\n",
       "      <td>control_3</td>\n",
       "      <td>1</td>\n",
       "      <td>0</td>\n",
       "      <td>0.9480</td>\n",
       "    </tr>\n",
       "    <tr>\n",
       "      <th>9</th>\n",
       "      <td>10</td>\n",
       "      <td>0</td>\n",
       "      <td>500</td>\n",
       "      <td>control_3</td>\n",
       "      <td>1</td>\n",
       "      <td>0</td>\n",
       "      <td>0.9496</td>\n",
       "    </tr>\n",
       "  </tbody>\n",
       "</table>\n",
       "</div>"
      ],
      "text/plain": [
       "   seed  regular_epochs  supermask_epochs experiment_name  has_supermask  \\\n",
       "0     1               0               500       control_3              1   \n",
       "1     2               0               500       control_3              1   \n",
       "2     3               0               500       control_3              1   \n",
       "3     4               0               500       control_3              1   \n",
       "4     5               0               500       control_3              1   \n",
       "5     6               0               500       control_3              1   \n",
       "6     7               0               500       control_3              1   \n",
       "7     8               0               500       control_3              1   \n",
       "8     9               0               500       control_3              1   \n",
       "9    10               0               500       control_3              1   \n",
       "\n",
       "   has_lth  test_accuracy  \n",
       "0        0         0.9483  \n",
       "1        0         0.9507  \n",
       "2        0         0.9497  \n",
       "3        0         0.9494  \n",
       "4        0         0.9502  \n",
       "5        0         0.9498  \n",
       "6        0         0.9470  \n",
       "7        0         0.9472  \n",
       "8        0         0.9480  \n",
       "9        0         0.9496  "
      ]
     },
     "execution_count": 220,
     "metadata": {},
     "output_type": "execute_result"
    }
   ],
   "source": [
    "df"
   ]
  },
  {
   "cell_type": "code",
   "execution_count": 231,
   "id": "double-mauritius",
   "metadata": {},
   "outputs": [],
   "source": [
    "df.to_csv('results/iter_lot_fc_orig/results_summary_{}.csv'.format(meta_args.experiment_name))"
   ]
  },
  {
   "cell_type": "markdown",
   "id": "handy-basics",
   "metadata": {},
   "source": [
    "# Analyzing the percentile-based pruning mask\n",
    "\n",
    "This code looks at the mask you get when you filter the weights by percentile for the purpose of lottery-ticket hypothesis system pruning and retraining.\n",
    "\n",
    "You should NOT run this with the supermask models"
   ]
  },
  {
   "cell_type": "code",
   "execution_count": 196,
   "id": "sporting-blank",
   "metadata": {},
   "outputs": [],
   "source": [
    "args.method = 'large_final_same_sign'\n",
    "args.prev_weights = args.init_weights_h5\n",
    "args.output_dir = args.init_weights_h5\n",
    "assert('weights' not in args.output_dir)\n",
    "args.prune_base = \"0.8,0.9\"\n",
    "args.prune_power = 1\n",
    "args.layer_cutoff = \"4,6\"\n",
    "args.seed = args.tf_seed\n",
    "args.final_weight_interpolation = 1\n",
    "args.final_weights_ind = -1"
   ]
  },
  {
   "cell_type": "code",
   "execution_count": 197,
   "id": "differential-airport",
   "metadata": {},
   "outputs": [
    {
     "data": {
      "text/plain": [
       "'./results/iter_lot_fc_orig/learned_supermasks_seed_1_attempt_0/run1'"
      ]
     },
     "execution_count": 197,
     "metadata": {},
     "output_type": "execute_result"
    }
   ],
   "source": [
    "args.init_weights_h5"
   ]
  },
  {
   "cell_type": "code",
   "execution_count": 198,
   "id": "complimentary-circumstances",
   "metadata": {},
   "outputs": [
    {
     "data": {
      "text/plain": [
       "'python get_weight_init.py --method large_final_same_sign --weights_h5 ./results/iter_lot_fc_orig/learned_supermasks_seed_1_attempt_0/run1/weights --output_h5 ./results/iter_lot_fc_orig/learned_supermasks_seed_1_attempt_0/run1/init_weights --prune_base 0.8,0.9 --prune_power 1 --layer_cutoff 4,6 --seed 1 --final_weight_interpolation 1 --final_weights_ind -1'"
      ]
     },
     "execution_count": 198,
     "metadata": {},
     "output_type": "execute_result"
    }
   ],
   "source": [
    "preproc_cmd = (\n",
    "    'python get_weight_init.py --method ' + args.method +\n",
    "    ' --weights_h5 ' + args.prev_weights + '/weights' +\n",
    "    ' --output_h5 ' + args.output_dir + '/init_weights' +\n",
    "    ' --prune_base ' + args.prune_base +\n",
    "    ' --prune_power ' + str(args.prune_power) +\n",
    "    ' --layer_cutoff ' + args.layer_cutoff + \n",
    "    ' --seed ' + str(args.seed) +\n",
    "    ' --final_weight_interpolation ' + str(args.final_weight_interpolation) +\n",
    "    ' --final_weights_ind ' + str(args.final_weights_ind))\n",
    "# os.system(preproc_cmd)\n",
    "preproc_cmd"
   ]
  },
  {
   "cell_type": "code",
   "execution_count": 200,
   "id": "fresh-firmware",
   "metadata": {},
   "outputs": [],
   "source": [
    "import subprocess\n",
    "proc_out = subprocess.run(preproc_cmd.split(), capture_output=True)"
   ]
  },
  {
   "cell_type": "code",
   "execution_count": 201,
   "id": "negative-sterling",
   "metadata": {},
   "outputs": [
    {
     "name": "stdout",
     "output_type": "stream",
     "text": [
      "==prune percentiles are: \n",
      "[19.999999999999996, 0, 19.999999999999996, 0, 9.999999999999998, 0]\n",
      "==no mask exists - generating first mask\n",
      "\n",
      "2021-06-01 02:27:18.675506: I tensorflow/stream_executor/platform/default/dso_loader.cc:49] Successfully opened dynamic library libcudart.so.11.0\n",
      "get_weight_init.py:47: DeprecationWarning: `np.int` is a deprecated alias for the builtin `int`. To silence this warning, use `int` by itself. Doing this will not modify any behavior and is safe. When replacing `np.int`, you may wish to use e.g. `np.int64` or `np.int32` to specify the precision. If you wish to review your current use, check the release note link for additional information.\n",
      "Deprecated in NumPy 1.20; for more details and guidance: https://numpy.org/devdocs/release/1.20.0-notes.html#deprecations\n",
      "  prune_num = np.int(np.sum(cur_mask) * percentile / 100)\n",
      "\n"
     ]
    }
   ],
   "source": [
    "print(proc_out.stdout.decode('utf-8'))\n",
    "print(proc_out.stderr.decode('utf-8'))"
   ]
  },
  {
   "cell_type": "code",
   "execution_count": 202,
   "id": "figured-framing",
   "metadata": {},
   "outputs": [],
   "source": [
    "if not args.init_weights_h5.endswith('/init_weights'):\n",
    "    preproc_h5file = os.path.join(args.init_weights_h5, 'init_weights')\n",
    "else:\n",
    "    preproc_h5file = args.init_weights_h5\n",
    "preproc_hf_weights = h5py.File(preproc_h5file, 'r')"
   ]
  },
  {
   "cell_type": "code",
   "execution_count": 203,
   "id": "cordless-simulation",
   "metadata": {},
   "outputs": [
    {
     "name": "stdout",
     "output_type": "stream",
     "text": [
      "(532810,)\n",
      "(532810,)\n"
     ]
    }
   ],
   "source": [
    "mask_flat = np.array(preproc_hf_weights.get('mask_values'))\n",
    "print(mask_flat.shape)\n",
    "print(init_weights_flat.shape)"
   ]
  },
  {
   "cell_type": "code",
   "execution_count": 124,
   "id": "vertical-fifty",
   "metadata": {},
   "outputs": [],
   "source": [
    "mask_values = split_and_shape(mask_flat, shapes)"
   ]
  },
  {
   "cell_type": "code",
   "execution_count": 204,
   "id": "concrete-treaty",
   "metadata": {},
   "outputs": [
    {
     "ename": "Exception",
     "evalue": "this code should NOT be used with supermask",
     "output_type": "error",
     "traceback": [
      "\u001b[0;31m---------------------------------------------------------------------------\u001b[0m",
      "\u001b[0;31mException\u001b[0m                                 Traceback (most recent call last)",
      "\u001b[0;32m<ipython-input-204-2ce6c0f3b070>\u001b[0m in \u001b[0;36m<module>\u001b[0;34m\u001b[0m\n\u001b[1;32m      1\u001b[0m \u001b[0;32mif\u001b[0m \u001b[0mlen\u001b[0m\u001b[0;34m(\u001b[0m\u001b[0mmask_values\u001b[0m\u001b[0;34m)\u001b[0m \u001b[0;34m==\u001b[0m \u001b[0;36m9\u001b[0m\u001b[0;34m:\u001b[0m\u001b[0;34m\u001b[0m\u001b[0;34m\u001b[0m\u001b[0m\n\u001b[0;32m----> 2\u001b[0;31m     \u001b[0;32mraise\u001b[0m \u001b[0mException\u001b[0m\u001b[0;34m(\u001b[0m\u001b[0;34m\"this code should NOT be used with supermask\"\u001b[0m\u001b[0;34m)\u001b[0m\u001b[0;34m\u001b[0m\u001b[0;34m\u001b[0m\u001b[0m\n\u001b[0m",
      "\u001b[0;31mException\u001b[0m: this code should NOT be used with supermask"
     ]
    }
   ],
   "source": [
    "if len(mask_values) == 9:\n",
    "    raise Exception(\"this code should NOT be used with supermask\")"
   ]
  },
  {
   "cell_type": "code",
   "execution_count": 185,
   "id": "renewable-research",
   "metadata": {},
   "outputs": [
    {
     "name": "stdout",
     "output_type": "stream",
     "text": [
      "Basic info\n",
      "Shape: (784, 300)\n",
      "Average fraction masked: 0.19999574829931976\n",
      "Min: 0.0, Max: 1.0\n",
      "\n",
      "Shape: (300,)\n",
      "Average fraction masked: 0.0\n",
      "Min: 1.0, Max: 1.0\n",
      "\n",
      "Shape: (784, 300)\n",
      "Average fraction masked: 0.19999574829931976\n",
      "Min: 0.0, Max: 1.0\n",
      "\n",
      "Shape: (300, 100)\n",
      "Average fraction masked: 0.0\n",
      "Min: 1.0, Max: 1.0\n",
      "\n",
      "Shape: (100,)\n",
      "Average fraction masked: 0.08999999999999997\n",
      "Min: 0.0, Max: 1.0\n",
      "\n",
      "Shape: (300, 100)\n",
      "Average fraction masked: 0.0\n",
      "Min: 1.0, Max: 1.0\n",
      "\n",
      "Total average fraction masked: 0.1772550866616428\n"
     ]
    }
   ],
   "source": [
    "print(\"Basic info\")\n",
    "all_mask_weights = []\n",
    "for mask_layer in mask_values:\n",
    "    print(\"Shape:\", mask_layer.shape)\n",
    "    print(\"Average fraction masked:\", 1 - mask_layer.mean())\n",
    "    print(\"Min: {}, Max: {}\\n\".format(\n",
    "        mask_layer.min(), mask_layer.max()))\n",
    "    all_mask_weights.append(mask_layer.flatten())\n",
    "all_mask_weights = np.concatenate(all_mask_weights)\n",
    "print(\"Total average fraction masked:\", 1-all_mask_weights.mean())"
   ]
  }
 ],
 "metadata": {
  "kernelspec": {
   "display_name": "Python 3",
   "language": "python",
   "name": "python3"
  },
  "language_info": {
   "codemirror_mode": {
    "name": "ipython",
    "version": 3
   },
   "file_extension": ".py",
   "mimetype": "text/x-python",
   "name": "python",
   "nbconvert_exporter": "python",
   "pygments_lexer": "ipython3",
   "version": "3.8.5"
  }
 },
 "nbformat": 4,
 "nbformat_minor": 5
}
